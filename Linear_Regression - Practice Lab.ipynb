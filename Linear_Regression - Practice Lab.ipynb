{
 "cells": [
  {
   "cell_type": "code",
   "execution_count": 181,
   "metadata": {},
   "outputs": [],
   "source": [
    "#importing the required libraries\n",
    "\n",
    "import pandas as pd\n",
    "import matplotlib.pyplot as plt\n",
    "import seaborn as sns\n",
    "import numpy as np\n",
    "import statsmodels.api as sm\n",
    "from sklearn.linear_model import LinearRegression\n",
    "from sklearn.model_selection import train_test_split"
   ]
  },
  {
   "cell_type": "code",
   "execution_count": 182,
   "metadata": {},
   "outputs": [],
   "source": [
    "#adding titles/columns to the dataset\n",
    "\n",
    "# MYCT = Machine Cycle Time in nanosec\n",
    "# MMIN = Minimum Main Memory in kilobytes\n",
    "# MMAX = Maximum Main Memory in kilobytes\n",
    "# CACH = Caatche Memory in kilobytes\n",
    "# CHMIN = Minimum Channels in units\n",
    "# CHMAX = Maximum Channels in units\n",
    "# PRP = Published Relative Performance\n",
    "# ERP = Estimated Relative Performance\n",
    "\n",
    "titles = ['vendor_name','model_name','MYCT','MMIN','MMAX','CACH','CHMIN','CHMAX','PRP','ERP']\n",
    "\n",
    "model = pd.read_csv('machine.csv', names=titles)"
   ]
  },
  {
   "cell_type": "code",
   "execution_count": 183,
   "metadata": {},
   "outputs": [
    {
     "data": {
      "text/html": [
       "<div>\n",
       "<style scoped>\n",
       "    .dataframe tbody tr th:only-of-type {\n",
       "        vertical-align: middle;\n",
       "    }\n",
       "\n",
       "    .dataframe tbody tr th {\n",
       "        vertical-align: top;\n",
       "    }\n",
       "\n",
       "    .dataframe thead th {\n",
       "        text-align: right;\n",
       "    }\n",
       "</style>\n",
       "<table border=\"1\" class=\"dataframe\">\n",
       "  <thead>\n",
       "    <tr style=\"text-align: right;\">\n",
       "      <th></th>\n",
       "      <th>vendor_name</th>\n",
       "      <th>model_name</th>\n",
       "      <th>MYCT</th>\n",
       "      <th>MMIN</th>\n",
       "      <th>MMAX</th>\n",
       "      <th>CACH</th>\n",
       "      <th>CHMIN</th>\n",
       "      <th>CHMAX</th>\n",
       "      <th>PRP</th>\n",
       "      <th>ERP</th>\n",
       "    </tr>\n",
       "  </thead>\n",
       "  <tbody>\n",
       "    <tr>\n",
       "      <th>0</th>\n",
       "      <td>adviser</td>\n",
       "      <td>32/60</td>\n",
       "      <td>125</td>\n",
       "      <td>256</td>\n",
       "      <td>6000</td>\n",
       "      <td>256</td>\n",
       "      <td>16</td>\n",
       "      <td>128</td>\n",
       "      <td>198</td>\n",
       "      <td>199</td>\n",
       "    </tr>\n",
       "    <tr>\n",
       "      <th>1</th>\n",
       "      <td>amdahl</td>\n",
       "      <td>470v/7</td>\n",
       "      <td>29</td>\n",
       "      <td>8000</td>\n",
       "      <td>32000</td>\n",
       "      <td>32</td>\n",
       "      <td>8</td>\n",
       "      <td>32</td>\n",
       "      <td>269</td>\n",
       "      <td>253</td>\n",
       "    </tr>\n",
       "    <tr>\n",
       "      <th>2</th>\n",
       "      <td>amdahl</td>\n",
       "      <td>470v/7a</td>\n",
       "      <td>29</td>\n",
       "      <td>8000</td>\n",
       "      <td>32000</td>\n",
       "      <td>32</td>\n",
       "      <td>8</td>\n",
       "      <td>32</td>\n",
       "      <td>220</td>\n",
       "      <td>253</td>\n",
       "    </tr>\n",
       "    <tr>\n",
       "      <th>3</th>\n",
       "      <td>amdahl</td>\n",
       "      <td>470v/7b</td>\n",
       "      <td>29</td>\n",
       "      <td>8000</td>\n",
       "      <td>32000</td>\n",
       "      <td>32</td>\n",
       "      <td>8</td>\n",
       "      <td>32</td>\n",
       "      <td>172</td>\n",
       "      <td>253</td>\n",
       "    </tr>\n",
       "    <tr>\n",
       "      <th>4</th>\n",
       "      <td>amdahl</td>\n",
       "      <td>470v/7c</td>\n",
       "      <td>29</td>\n",
       "      <td>8000</td>\n",
       "      <td>16000</td>\n",
       "      <td>32</td>\n",
       "      <td>8</td>\n",
       "      <td>16</td>\n",
       "      <td>132</td>\n",
       "      <td>132</td>\n",
       "    </tr>\n",
       "  </tbody>\n",
       "</table>\n",
       "</div>"
      ],
      "text/plain": [
       "  vendor_name model_name  MYCT  MMIN   MMAX  CACH  CHMIN  CHMAX  PRP  ERP\n",
       "0     adviser      32/60   125   256   6000   256     16    128  198  199\n",
       "1      amdahl     470v/7    29  8000  32000    32      8     32  269  253\n",
       "2      amdahl    470v/7a    29  8000  32000    32      8     32  220  253\n",
       "3      amdahl    470v/7b    29  8000  32000    32      8     32  172  253\n",
       "4      amdahl    470v/7c    29  8000  16000    32      8     16  132  132"
      ]
     },
     "execution_count": 183,
     "metadata": {},
     "output_type": "execute_result"
    }
   ],
   "source": [
    "#showing the first 5 rows of the dataset\n",
    "\n",
    "model.head()"
   ]
  },
  {
   "cell_type": "code",
   "execution_count": 184,
   "metadata": {},
   "outputs": [
    {
     "data": {
      "text/plain": [
       "Index(['vendor_name', 'model_name', 'MYCT', 'MMIN', 'MMAX', 'CACH', 'CHMIN',\n",
       "       'CHMAX', 'PRP', 'ERP'],\n",
       "      dtype='object')"
      ]
     },
     "execution_count": 184,
     "metadata": {},
     "output_type": "execute_result"
    }
   ],
   "source": [
    "#lists out the dataset columns\n",
    "\n",
    "model.columns"
   ]
  },
  {
   "cell_type": "code",
   "execution_count": 185,
   "metadata": {},
   "outputs": [
    {
     "data": {
      "text/html": [
       "<div>\n",
       "<style scoped>\n",
       "    .dataframe tbody tr th:only-of-type {\n",
       "        vertical-align: middle;\n",
       "    }\n",
       "\n",
       "    .dataframe tbody tr th {\n",
       "        vertical-align: top;\n",
       "    }\n",
       "\n",
       "    .dataframe thead th {\n",
       "        text-align: right;\n",
       "    }\n",
       "</style>\n",
       "<table border=\"1\" class=\"dataframe\">\n",
       "  <thead>\n",
       "    <tr style=\"text-align: right;\">\n",
       "      <th></th>\n",
       "      <th>MYCT</th>\n",
       "      <th>MMIN</th>\n",
       "      <th>MMAX</th>\n",
       "      <th>CACH</th>\n",
       "      <th>CHMIN</th>\n",
       "      <th>CHMAX</th>\n",
       "      <th>PRP</th>\n",
       "      <th>ERP</th>\n",
       "    </tr>\n",
       "  </thead>\n",
       "  <tbody>\n",
       "    <tr>\n",
       "      <th>count</th>\n",
       "      <td>209.000000</td>\n",
       "      <td>209.000000</td>\n",
       "      <td>209.000000</td>\n",
       "      <td>209.000000</td>\n",
       "      <td>209.000000</td>\n",
       "      <td>209.000000</td>\n",
       "      <td>209.000000</td>\n",
       "      <td>209.000000</td>\n",
       "    </tr>\n",
       "    <tr>\n",
       "      <th>mean</th>\n",
       "      <td>203.822967</td>\n",
       "      <td>2867.980861</td>\n",
       "      <td>11796.153110</td>\n",
       "      <td>25.205742</td>\n",
       "      <td>4.698565</td>\n",
       "      <td>18.267943</td>\n",
       "      <td>105.622010</td>\n",
       "      <td>99.330144</td>\n",
       "    </tr>\n",
       "    <tr>\n",
       "      <th>std</th>\n",
       "      <td>260.262926</td>\n",
       "      <td>3878.742758</td>\n",
       "      <td>11726.564377</td>\n",
       "      <td>40.628722</td>\n",
       "      <td>6.816274</td>\n",
       "      <td>25.997318</td>\n",
       "      <td>160.830733</td>\n",
       "      <td>154.757102</td>\n",
       "    </tr>\n",
       "    <tr>\n",
       "      <th>min</th>\n",
       "      <td>17.000000</td>\n",
       "      <td>64.000000</td>\n",
       "      <td>64.000000</td>\n",
       "      <td>0.000000</td>\n",
       "      <td>0.000000</td>\n",
       "      <td>0.000000</td>\n",
       "      <td>6.000000</td>\n",
       "      <td>15.000000</td>\n",
       "    </tr>\n",
       "    <tr>\n",
       "      <th>25%</th>\n",
       "      <td>50.000000</td>\n",
       "      <td>768.000000</td>\n",
       "      <td>4000.000000</td>\n",
       "      <td>0.000000</td>\n",
       "      <td>1.000000</td>\n",
       "      <td>5.000000</td>\n",
       "      <td>27.000000</td>\n",
       "      <td>28.000000</td>\n",
       "    </tr>\n",
       "    <tr>\n",
       "      <th>50%</th>\n",
       "      <td>110.000000</td>\n",
       "      <td>2000.000000</td>\n",
       "      <td>8000.000000</td>\n",
       "      <td>8.000000</td>\n",
       "      <td>2.000000</td>\n",
       "      <td>8.000000</td>\n",
       "      <td>50.000000</td>\n",
       "      <td>45.000000</td>\n",
       "    </tr>\n",
       "    <tr>\n",
       "      <th>75%</th>\n",
       "      <td>225.000000</td>\n",
       "      <td>4000.000000</td>\n",
       "      <td>16000.000000</td>\n",
       "      <td>32.000000</td>\n",
       "      <td>6.000000</td>\n",
       "      <td>24.000000</td>\n",
       "      <td>113.000000</td>\n",
       "      <td>101.000000</td>\n",
       "    </tr>\n",
       "    <tr>\n",
       "      <th>max</th>\n",
       "      <td>1500.000000</td>\n",
       "      <td>32000.000000</td>\n",
       "      <td>64000.000000</td>\n",
       "      <td>256.000000</td>\n",
       "      <td>52.000000</td>\n",
       "      <td>176.000000</td>\n",
       "      <td>1150.000000</td>\n",
       "      <td>1238.000000</td>\n",
       "    </tr>\n",
       "  </tbody>\n",
       "</table>\n",
       "</div>"
      ],
      "text/plain": [
       "              MYCT          MMIN          MMAX        CACH       CHMIN  \\\n",
       "count   209.000000    209.000000    209.000000  209.000000  209.000000   \n",
       "mean    203.822967   2867.980861  11796.153110   25.205742    4.698565   \n",
       "std     260.262926   3878.742758  11726.564377   40.628722    6.816274   \n",
       "min      17.000000     64.000000     64.000000    0.000000    0.000000   \n",
       "25%      50.000000    768.000000   4000.000000    0.000000    1.000000   \n",
       "50%     110.000000   2000.000000   8000.000000    8.000000    2.000000   \n",
       "75%     225.000000   4000.000000  16000.000000   32.000000    6.000000   \n",
       "max    1500.000000  32000.000000  64000.000000  256.000000   52.000000   \n",
       "\n",
       "            CHMAX          PRP          ERP  \n",
       "count  209.000000   209.000000   209.000000  \n",
       "mean    18.267943   105.622010    99.330144  \n",
       "std     25.997318   160.830733   154.757102  \n",
       "min      0.000000     6.000000    15.000000  \n",
       "25%      5.000000    27.000000    28.000000  \n",
       "50%      8.000000    50.000000    45.000000  \n",
       "75%     24.000000   113.000000   101.000000  \n",
       "max    176.000000  1150.000000  1238.000000  "
      ]
     },
     "execution_count": 185,
     "metadata": {},
     "output_type": "execute_result"
    }
   ],
   "source": [
    "#statistical summary of the dataset\n",
    "\n",
    "model.describe()"
   ]
  },
  {
   "cell_type": "code",
   "execution_count": 186,
   "metadata": {},
   "outputs": [
    {
     "data": {
      "text/plain": [
       "(209, 10)"
      ]
     },
     "execution_count": 186,
     "metadata": {},
     "output_type": "execute_result"
    }
   ],
   "source": [
    "#to view the numbers of rows and columns\n",
    "\n",
    "model.shape"
   ]
  },
  {
   "cell_type": "code",
   "execution_count": 187,
   "metadata": {},
   "outputs": [
    {
     "data": {
      "text/plain": [
       "vendor_name    object\n",
       "model_name     object\n",
       "MYCT            int64\n",
       "MMIN            int64\n",
       "MMAX            int64\n",
       "CACH            int64\n",
       "CHMIN           int64\n",
       "CHMAX           int64\n",
       "PRP             int64\n",
       "ERP             int64\n",
       "dtype: object"
      ]
     },
     "execution_count": 187,
     "metadata": {},
     "output_type": "execute_result"
    }
   ],
   "source": [
    "#gettimg the data types of each attributes in the dataset\n",
    "\n",
    "model.dtypes"
   ]
  },
  {
   "cell_type": "code",
   "execution_count": 188,
   "metadata": {},
   "outputs": [
    {
     "data": {
      "text/html": [
       "<div>\n",
       "<style scoped>\n",
       "    .dataframe tbody tr th:only-of-type {\n",
       "        vertical-align: middle;\n",
       "    }\n",
       "\n",
       "    .dataframe tbody tr th {\n",
       "        vertical-align: top;\n",
       "    }\n",
       "\n",
       "    .dataframe thead th {\n",
       "        text-align: right;\n",
       "    }\n",
       "</style>\n",
       "<table border=\"1\" class=\"dataframe\">\n",
       "  <thead>\n",
       "    <tr style=\"text-align: right;\">\n",
       "      <th></th>\n",
       "      <th>MYCT</th>\n",
       "      <th>MMIN</th>\n",
       "      <th>MMAX</th>\n",
       "      <th>CACH</th>\n",
       "      <th>CHMIN</th>\n",
       "      <th>CHMAX</th>\n",
       "      <th>PRP</th>\n",
       "      <th>ERP</th>\n",
       "    </tr>\n",
       "  </thead>\n",
       "  <tbody>\n",
       "    <tr>\n",
       "      <th>MYCT</th>\n",
       "      <td>1.000000</td>\n",
       "      <td>-0.335642</td>\n",
       "      <td>-0.378561</td>\n",
       "      <td>-0.321000</td>\n",
       "      <td>-0.301090</td>\n",
       "      <td>-0.250502</td>\n",
       "      <td>-0.307099</td>\n",
       "      <td>-0.288396</td>\n",
       "    </tr>\n",
       "    <tr>\n",
       "      <th>MMIN</th>\n",
       "      <td>-0.335642</td>\n",
       "      <td>1.000000</td>\n",
       "      <td>0.758157</td>\n",
       "      <td>0.534729</td>\n",
       "      <td>0.517189</td>\n",
       "      <td>0.266907</td>\n",
       "      <td>0.794931</td>\n",
       "      <td>0.819292</td>\n",
       "    </tr>\n",
       "    <tr>\n",
       "      <th>MMAX</th>\n",
       "      <td>-0.378561</td>\n",
       "      <td>0.758157</td>\n",
       "      <td>1.000000</td>\n",
       "      <td>0.537990</td>\n",
       "      <td>0.560513</td>\n",
       "      <td>0.527246</td>\n",
       "      <td>0.863004</td>\n",
       "      <td>0.901202</td>\n",
       "    </tr>\n",
       "    <tr>\n",
       "      <th>CACH</th>\n",
       "      <td>-0.321000</td>\n",
       "      <td>0.534729</td>\n",
       "      <td>0.537990</td>\n",
       "      <td>1.000000</td>\n",
       "      <td>0.582245</td>\n",
       "      <td>0.487846</td>\n",
       "      <td>0.662641</td>\n",
       "      <td>0.648620</td>\n",
       "    </tr>\n",
       "    <tr>\n",
       "      <th>CHMIN</th>\n",
       "      <td>-0.301090</td>\n",
       "      <td>0.517189</td>\n",
       "      <td>0.560513</td>\n",
       "      <td>0.582245</td>\n",
       "      <td>1.000000</td>\n",
       "      <td>0.548281</td>\n",
       "      <td>0.608903</td>\n",
       "      <td>0.610580</td>\n",
       "    </tr>\n",
       "    <tr>\n",
       "      <th>CHMAX</th>\n",
       "      <td>-0.250502</td>\n",
       "      <td>0.266907</td>\n",
       "      <td>0.527246</td>\n",
       "      <td>0.487846</td>\n",
       "      <td>0.548281</td>\n",
       "      <td>1.000000</td>\n",
       "      <td>0.605209</td>\n",
       "      <td>0.592156</td>\n",
       "    </tr>\n",
       "    <tr>\n",
       "      <th>PRP</th>\n",
       "      <td>-0.307099</td>\n",
       "      <td>0.794931</td>\n",
       "      <td>0.863004</td>\n",
       "      <td>0.662641</td>\n",
       "      <td>0.608903</td>\n",
       "      <td>0.605209</td>\n",
       "      <td>1.000000</td>\n",
       "      <td>0.966472</td>\n",
       "    </tr>\n",
       "    <tr>\n",
       "      <th>ERP</th>\n",
       "      <td>-0.288396</td>\n",
       "      <td>0.819292</td>\n",
       "      <td>0.901202</td>\n",
       "      <td>0.648620</td>\n",
       "      <td>0.610580</td>\n",
       "      <td>0.592156</td>\n",
       "      <td>0.966472</td>\n",
       "      <td>1.000000</td>\n",
       "    </tr>\n",
       "  </tbody>\n",
       "</table>\n",
       "</div>"
      ],
      "text/plain": [
       "           MYCT      MMIN      MMAX      CACH     CHMIN     CHMAX       PRP  \\\n",
       "MYCT   1.000000 -0.335642 -0.378561 -0.321000 -0.301090 -0.250502 -0.307099   \n",
       "MMIN  -0.335642  1.000000  0.758157  0.534729  0.517189  0.266907  0.794931   \n",
       "MMAX  -0.378561  0.758157  1.000000  0.537990  0.560513  0.527246  0.863004   \n",
       "CACH  -0.321000  0.534729  0.537990  1.000000  0.582245  0.487846  0.662641   \n",
       "CHMIN -0.301090  0.517189  0.560513  0.582245  1.000000  0.548281  0.608903   \n",
       "CHMAX -0.250502  0.266907  0.527246  0.487846  0.548281  1.000000  0.605209   \n",
       "PRP   -0.307099  0.794931  0.863004  0.662641  0.608903  0.605209  1.000000   \n",
       "ERP   -0.288396  0.819292  0.901202  0.648620  0.610580  0.592156  0.966472   \n",
       "\n",
       "            ERP  \n",
       "MYCT  -0.288396  \n",
       "MMIN   0.819292  \n",
       "MMAX   0.901202  \n",
       "CACH   0.648620  \n",
       "CHMIN  0.610580  \n",
       "CHMAX  0.592156  \n",
       "PRP    0.966472  \n",
       "ERP    1.000000  "
      ]
     },
     "execution_count": 188,
     "metadata": {},
     "output_type": "execute_result"
    }
   ],
   "source": [
    "model.corr(method='pearson')"
   ]
  },
  {
   "cell_type": "code",
   "execution_count": 189,
   "metadata": {},
   "outputs": [],
   "source": [
    "model.drop(['PRP','model_name'], axis=1, inplace=True)"
   ]
  },
  {
   "cell_type": "code",
   "execution_count": 190,
   "metadata": {},
   "outputs": [
    {
     "data": {
      "text/plain": [
       "Index(['vendor_name', 'MYCT', 'MMIN', 'MMAX', 'CACH', 'CHMIN', 'CHMAX', 'ERP'], dtype='object')"
      ]
     },
     "execution_count": 190,
     "metadata": {},
     "output_type": "execute_result"
    }
   ],
   "source": [
    "model.columns"
   ]
  },
  {
   "cell_type": "code",
   "execution_count": 191,
   "metadata": {},
   "outputs": [],
   "source": [
    "y = model['ERP']"
   ]
  },
  {
   "cell_type": "code",
   "execution_count": 192,
   "metadata": {},
   "outputs": [
    {
     "data": {
      "text/plain": [
       "(209,)"
      ]
     },
     "execution_count": 192,
     "metadata": {},
     "output_type": "execute_result"
    }
   ],
   "source": [
    "y.shape"
   ]
  },
  {
   "cell_type": "code",
   "execution_count": 193,
   "metadata": {},
   "outputs": [],
   "source": [
    "x1 = model.drop(['ERP','vendor_name'], axis=1)"
   ]
  },
  {
   "cell_type": "code",
   "execution_count": 194,
   "metadata": {},
   "outputs": [],
   "source": [
    "x = sm.add_constant(x1)\n",
    "results = sm.OLS(y,x).fit()"
   ]
  },
  {
   "cell_type": "code",
   "execution_count": 195,
   "metadata": {},
   "outputs": [
    {
     "data": {
      "text/html": [
       "<table class=\"simpletable\">\n",
       "<caption>OLS Regression Results</caption>\n",
       "<tr>\n",
       "  <th>Dep. Variable:</th>           <td>ERP</td>       <th>  R-squared:         </th> <td>   0.911</td> \n",
       "</tr>\n",
       "<tr>\n",
       "  <th>Model:</th>                   <td>OLS</td>       <th>  Adj. R-squared:    </th> <td>   0.908</td> \n",
       "</tr>\n",
       "<tr>\n",
       "  <th>Method:</th>             <td>Least Squares</td>  <th>  F-statistic:       </th> <td>   344.1</td> \n",
       "</tr>\n",
       "<tr>\n",
       "  <th>Date:</th>             <td>Tue, 18 Aug 2020</td> <th>  Prob (F-statistic):</th> <td>3.92e-103</td>\n",
       "</tr>\n",
       "<tr>\n",
       "  <th>Time:</th>                 <td>10:53:37</td>     <th>  Log-Likelihood:    </th> <td> -1097.2</td> \n",
       "</tr>\n",
       "<tr>\n",
       "  <th>No. Observations:</th>      <td>   209</td>      <th>  AIC:               </th> <td>   2208.</td> \n",
       "</tr>\n",
       "<tr>\n",
       "  <th>Df Residuals:</th>          <td>   202</td>      <th>  BIC:               </th> <td>   2232.</td> \n",
       "</tr>\n",
       "<tr>\n",
       "  <th>Df Model:</th>              <td>     6</td>      <th>                     </th>     <td> </td>    \n",
       "</tr>\n",
       "<tr>\n",
       "  <th>Covariance Type:</th>      <td>nonrobust</td>    <th>                     </th>     <td> </td>    \n",
       "</tr>\n",
       "</table>\n",
       "<table class=\"simpletable\">\n",
       "<tr>\n",
       "    <td></td>       <th>coef</th>     <th>std err</th>      <th>t</th>      <th>P>|t|</th>  <th>[0.025</th>    <th>0.975]</th>  \n",
       "</tr>\n",
       "<tr>\n",
       "  <th>const</th> <td>  -66.4814</td> <td>    6.288</td> <td>  -10.574</td> <td> 0.000</td> <td>  -78.879</td> <td>  -54.084</td>\n",
       "</tr>\n",
       "<tr>\n",
       "  <th>MYCT</th>  <td>    0.0660</td> <td>    0.014</td> <td>    4.818</td> <td> 0.000</td> <td>    0.039</td> <td>    0.093</td>\n",
       "</tr>\n",
       "<tr>\n",
       "  <th>MMIN</th>  <td>    0.0143</td> <td>    0.001</td> <td>   10.021</td> <td> 0.000</td> <td>    0.011</td> <td>    0.017</td>\n",
       "</tr>\n",
       "<tr>\n",
       "  <th>MMAX</th>  <td>    0.0066</td> <td>    0.001</td> <td>   13.138</td> <td> 0.000</td> <td>    0.006</td> <td>    0.008</td>\n",
       "</tr>\n",
       "<tr>\n",
       "  <th>CACH</th>  <td>    0.4945</td> <td>    0.109</td> <td>    4.533</td> <td> 0.000</td> <td>    0.279</td> <td>    0.710</td>\n",
       "</tr>\n",
       "<tr>\n",
       "  <th>CHMIN</th> <td>   -0.1723</td> <td>    0.669</td> <td>   -0.258</td> <td> 0.797</td> <td>   -1.491</td> <td>    1.146</td>\n",
       "</tr>\n",
       "<tr>\n",
       "  <th>CHMAX</th> <td>    1.2012</td> <td>    0.172</td> <td>    6.985</td> <td> 0.000</td> <td>    0.862</td> <td>    1.540</td>\n",
       "</tr>\n",
       "</table>\n",
       "<table class=\"simpletable\">\n",
       "<tr>\n",
       "  <th>Omnibus:</th>       <td>109.550</td> <th>  Durbin-Watson:     </th> <td>   1.095</td> \n",
       "</tr>\n",
       "<tr>\n",
       "  <th>Prob(Omnibus):</th> <td> 0.000</td>  <th>  Jarque-Bera (JB):  </th> <td>1015.951</td> \n",
       "</tr>\n",
       "<tr>\n",
       "  <th>Skew:</th>          <td> 1.786</td>  <th>  Prob(JB):          </th> <td>2.45e-221</td>\n",
       "</tr>\n",
       "<tr>\n",
       "  <th>Kurtosis:</th>      <td>13.193</td>  <th>  Cond. No.          </th> <td>3.32e+04</td> \n",
       "</tr>\n",
       "</table><br/><br/>Warnings:<br/>[1] Standard Errors assume that the covariance matrix of the errors is correctly specified.<br/>[2] The condition number is large, 3.32e+04. This might indicate that there are<br/>strong multicollinearity or other numerical problems."
      ],
      "text/plain": [
       "<class 'statsmodels.iolib.summary.Summary'>\n",
       "\"\"\"\n",
       "                            OLS Regression Results                            \n",
       "==============================================================================\n",
       "Dep. Variable:                    ERP   R-squared:                       0.911\n",
       "Model:                            OLS   Adj. R-squared:                  0.908\n",
       "Method:                 Least Squares   F-statistic:                     344.1\n",
       "Date:                Tue, 18 Aug 2020   Prob (F-statistic):          3.92e-103\n",
       "Time:                        10:53:37   Log-Likelihood:                -1097.2\n",
       "No. Observations:                 209   AIC:                             2208.\n",
       "Df Residuals:                     202   BIC:                             2232.\n",
       "Df Model:                           6                                         \n",
       "Covariance Type:            nonrobust                                         \n",
       "==============================================================================\n",
       "                 coef    std err          t      P>|t|      [0.025      0.975]\n",
       "------------------------------------------------------------------------------\n",
       "const        -66.4814      6.288    -10.574      0.000     -78.879     -54.084\n",
       "MYCT           0.0660      0.014      4.818      0.000       0.039       0.093\n",
       "MMIN           0.0143      0.001     10.021      0.000       0.011       0.017\n",
       "MMAX           0.0066      0.001     13.138      0.000       0.006       0.008\n",
       "CACH           0.4945      0.109      4.533      0.000       0.279       0.710\n",
       "CHMIN         -0.1723      0.669     -0.258      0.797      -1.491       1.146\n",
       "CHMAX          1.2012      0.172      6.985      0.000       0.862       1.540\n",
       "==============================================================================\n",
       "Omnibus:                      109.550   Durbin-Watson:                   1.095\n",
       "Prob(Omnibus):                  0.000   Jarque-Bera (JB):             1015.951\n",
       "Skew:                           1.786   Prob(JB):                    2.45e-221\n",
       "Kurtosis:                      13.193   Cond. No.                     3.32e+04\n",
       "==============================================================================\n",
       "\n",
       "Warnings:\n",
       "[1] Standard Errors assume that the covariance matrix of the errors is correctly specified.\n",
       "[2] The condition number is large, 3.32e+04. This might indicate that there are\n",
       "strong multicollinearity or other numerical problems.\n",
       "\"\"\""
      ]
     },
     "execution_count": 195,
     "metadata": {},
     "output_type": "execute_result"
    }
   ],
   "source": [
    "results.summary()"
   ]
  },
  {
   "cell_type": "code",
   "execution_count": 196,
   "metadata": {},
   "outputs": [
    {
     "data": {
      "text/plain": [
       "<seaborn.axisgrid.PairGrid at 0xc339a70>"
      ]
     },
     "execution_count": 196,
     "metadata": {},
     "output_type": "execute_result"
    },
    {
     "data": {
      "image/png": "[encoded data removed]",
      "text/plain": [
       "<Figure size 1512x360 with 6 Axes>"
      ]
     },
     "metadata": {
      "needs_background": "light"
     },
     "output_type": "display_data"
    }
   ],
   "source": [
    "sns.pairplot(model, x_vars=['MYCT','MMIN','MMAX','CACH', 'CHMIN','CHMAX'], y_vars='ERP', height=5, aspect=0.7)"
   ]
  },
  {
   "cell_type": "code",
   "execution_count": 197,
   "metadata": {},
   "outputs": [],
   "source": [
    "x = x.to_numpy()"
   ]
  },
  {
   "cell_type": "code",
   "execution_count": 198,
   "metadata": {},
   "outputs": [],
   "source": [
    "y = y.to_numpy()"
   ]
  },
  {
   "cell_type": "code",
   "execution_count": 200,
   "metadata": {},
   "outputs": [],
   "source": [
    "#creating the model\n",
    "\n",
    "reg = LinearRegression()"
   ]
  },
  {
   "cell_type": "code",
   "execution_count": 97,
   "metadata": {},
   "outputs": [],
   "source": [
    "#x_train, x_test, y_train, y_test = train_test_split(x,y,random_state=1)"
   ]
  },
  {
   "cell_type": "code",
   "execution_count": 98,
   "metadata": {},
   "outputs": [],
   "source": [
    "#print(x_train.shape)\n",
    "#print(x_test.shape)\n",
    "#print(y_train.shape)\n",
    "#print(y_test.shape)"
   ]
  },
  {
   "cell_type": "code",
   "execution_count": 201,
   "metadata": {},
   "outputs": [
    {
     "data": {
      "text/plain": [
       "LinearRegression(copy_X=True, fit_intercept=True, n_jobs=None, normalize=False)"
      ]
     },
     "execution_count": 201,
     "metadata": {},
     "output_type": "execute_result"
    }
   ],
   "source": [
    "reg.fit(x,y)"
   ]
  },
  {
   "cell_type": "code",
   "execution_count": 202,
   "metadata": {},
   "outputs": [
    {
     "name": "stdout",
     "output_type": "stream",
     "text": [
      "-66.4813843220309\n"
     ]
    }
   ],
   "source": [
    "print(reg.intercept_)"
   ]
  },
  {
   "cell_type": "code",
   "execution_count": 203,
   "metadata": {},
   "outputs": [
    {
     "name": "stdout",
     "output_type": "stream",
     "text": [
      "[ 0.          0.06596107  0.01430707  0.00659013  0.49446814 -0.17233733\n",
      "  1.20116913]\n"
     ]
    }
   ],
   "source": [
    "print(reg.coef_)"
   ]
  },
  {
   "cell_type": "code",
   "execution_count": 204,
   "metadata": {},
   "outputs": [],
   "source": [
    "y_new = reg.predict(x)"
   ]
  },
  {
   "cell_type": "code",
   "execution_count": 205,
   "metadata": {},
   "outputs": [
    {
     "data": {
      "text/plain": [
       "array([ 2.62543224e+02,  3.13653833e+02,  3.13653833e+02,  3.13653833e+02,\n",
       "        1.88993073e+02,  3.29278930e+02,  4.42158894e+02,  4.42158894e+02,\n",
       "        6.53043000e+02,  9.49282068e+02, -3.78950304e+00, -6.93739098e-01,\n",
       "        6.03888876e+01,  1.41064440e+02, -3.74252508e+01,  9.72261641e+01,\n",
       "       -1.35047929e+01,  2.04579597e+01, -1.12046074e+01,  1.90970917e+02,\n",
       "        4.35051846e+01,  5.13234513e+01,  9.25569010e+01,  1.01825840e+02,\n",
       "        1.02399243e+01, -1.94593244e+01,  4.86421426e+00, -1.65318055e+01,\n",
       "        2.71339883e+00,  2.51958495e-01,  6.27113755e+01,  6.27113755e+01,\n",
       "        8.49597879e+01,  8.49597879e+01,  1.91970519e+02,  1.92498208e+02,\n",
       "       -3.42614559e+01, -1.27264960e+01,  2.79410855e+01, -1.30711706e+01,\n",
       "        1.32893427e+01,  8.03174375e+01,  8.15186066e+01,  8.15186066e+01,\n",
       "        5.40272766e+01,  2.76667633e+01,  2.63102223e+00,  3.52336223e+01,\n",
       "        2.24837838e+01,  2.01498356e+01,  3.89351358e+01, -2.43693888e+00,\n",
       "        7.38449469e+01,  1.59689250e+01, -8.41659415e+00,  4.43044325e+01,\n",
       "        2.51996366e+01,  4.73034453e+01,  4.73034453e+01,  4.73034453e+01,\n",
       "        4.73034453e+01,  4.73034453e+01, -2.16762197e+01,  9.69189093e+01,\n",
       "        1.49639936e+02,  1.81285897e+02, -3.87974712e+01, -3.12179268e+01,\n",
       "        9.42315637e+00,  2.16801241e+01,  5.20676510e+01,  9.52027782e+01,\n",
       "       -9.78428428e+00,  1.18591845e+01,  1.48259933e+01,  7.41371482e+01,\n",
       "        2.26060636e+01,  6.95049207e+01, -8.12404441e+00,  7.54916907e+01,\n",
       "       -6.17677688e+00,  7.42880748e+01,  2.11198070e+02, -1.49969061e+01,\n",
       "        2.64335237e+00,  4.41781768e+00,  6.64781860e+00,  2.55346053e+01,\n",
       "        2.21925434e+02,  1.04602104e+02,  2.62765184e+02,  2.62765184e+02,\n",
       "        2.55346053e+01,  1.13823196e+02,  2.01466368e+02,  4.32747424e+02,\n",
       "        4.34126123e+02,  2.88023616e+02,  1.72972210e+02, -2.90436157e+01,\n",
       "       -1.97704544e+01,  2.91629506e+00,  2.43150336e+01,  3.12727072e+01,\n",
       "       -1.70782674e+00,  1.59065244e+01,  7.08811741e+01,  1.60107743e+01,\n",
       "        9.02892497e+00,  3.77590318e+01,  3.97369044e+01,  5.45482293e+01,\n",
       "        1.39802536e+01,  1.39802536e+01,  3.77171935e+01,  9.47237706e+01,\n",
       "        9.43939652e+01, -3.29362348e+00,  5.14514030e+01,  5.62636426e+01,\n",
       "        1.14646031e+02,  1.26513266e+02,  5.00381743e+01,  5.66283026e+01,\n",
       "        1.04555550e+01, -1.51867843e+00,  2.87975800e+01,  2.91422547e+01,\n",
       "        8.97747715e+01,  8.97747715e+01,  1.92289093e+02,  1.40051574e+01,\n",
       "        2.58723928e+01,  2.57000554e+01,  9.55081704e+01,  1.00924776e+02,\n",
       "        1.00924776e+02,  1.29469458e+02,  3.37819618e+01,  2.90123281e+00,\n",
       "        4.37798549e+01,  4.37798549e+01,  2.99347470e+01,  1.16082190e+02,\n",
       "        1.23004264e+02,  1.11926097e+02,  1.40540233e+02,  1.42282961e+02,\n",
       "        1.50424107e+02,  3.60897949e+01,  1.89718645e+02,  3.20593032e+02,\n",
       "        3.20263227e+02,  4.74794271e+02,  1.95348441e+02,  3.20461110e+02,\n",
       "        5.27949151e+02, -3.35642090e+01, -2.64186523e+01, -1.50853056e+01,\n",
       "        1.48043576e+01,  2.79846142e+01,  5.65987506e+01,  8.29592639e+01,\n",
       "        1.09319777e+02,  9.74774310e+01,  9.74774310e+01,  1.96489700e+02,\n",
       "        2.96679668e+02,  1.97667399e+02, -2.35718450e+01, -7.98925005e+00,\n",
       "        6.55254616e+01, -8.06953856e+00, -8.58655056e+00,  7.96894879e+01,\n",
       "       -1.54194366e+01, -2.53408606e+01,  5.33974363e+00,  3.56560021e+01,\n",
       "        5.66733914e+01, -2.93484656e+01, -2.03559990e+01,  8.46726369e+00,\n",
       "        3.46956065e+01,  4.58181995e+01,  1.29166578e+02,  8.69767773e+01,\n",
       "        1.02923117e+02,  2.15714890e+02,  2.41516217e+02,  3.09370875e+02,\n",
       "        3.58167494e+02,  7.10992920e+01,  2.18378521e+02,  2.58029407e+02,\n",
       "        3.47655392e+02,  3.76269528e+02,  7.28528866e+02,  7.44351847e+02,\n",
       "       -2.10682569e+01, -1.74914898e+01, -2.10682569e+01, -1.74914898e+01,\n",
       "        1.81628986e+01,  3.20985540e+01,  3.95706053e+01,  4.10491543e+01,\n",
       "        5.84750980e+00])"
      ]
     },
     "execution_count": 205,
     "metadata": {},
     "output_type": "execute_result"
    }
   ],
   "source": [
    "y_new"
   ]
  },
  {
   "cell_type": "code",
   "execution_count": 206,
   "metadata": {},
   "outputs": [
    {
     "data": {
      "text/plain": [
       "0.9108693747168687"
      ]
     },
     "execution_count": 206,
     "metadata": {},
     "output_type": "execute_result"
    }
   ],
   "source": [
    "reg.score(x,y)"
   ]
  },
  {
   "cell_type": "code",
   "execution_count": null,
   "metadata": {},
   "outputs": [],
   "source": []
  }
 ],
 "metadata": {
  "kernelspec": {
   "display_name": "Python 3",
   "language": "python",
   "name": "python3"
  },
  "language_info": {
   "codemirror_mode": {
    "name": "ipython",
    "version": 3
   },
   "file_extension": ".py",
   "mimetype": "text/x-python",
   "name": "python",
   "nbconvert_exporter": "python",
   "pygments_lexer": "ipython3",
   "version": "3.7.6"
  }
 },
 "nbformat": 4,
 "nbformat_minor": 4
}
