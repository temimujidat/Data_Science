{
 "cells": [
  {
   "cell_type": "code",
   "execution_count": 182,
   "metadata": {},
   "outputs": [],
   "source": [
    "import pandas as pd\n",
    "import matplotlib.pyplot as plt\n",
    "import seaborn as sns\n",
    "import numpy as np\n",
    "from sklearn.linear_model import LinearRegression\n",
    "from sklearn.model_selection import train_test_split"
   ]
  },
  {
   "cell_type": "code",
   "execution_count": 183,
   "metadata": {},
   "outputs": [],
   "source": [
    "# MYCT = Machine Cycle Time in nanosec\n",
    "# MMIN = Minimum Main Memory in kilobytes\n",
    "# MMAX = Maximum Main Memory in kilobytes\n",
    "# CACH = Caatche Memory in kilobytes\n",
    "# CHMIN = Minimum Channels in units\n",
    "# CHMAX = Maximum Channels in units\n",
    "# PRP = Published Relative Performance\n",
    "# ERP = Estimated Relative Performance\n",
    "\n",
    "titles = ['vendor_name','model_name','MYCT','MMIN','MMAX','CACH','CHMIN','CHMAX','PRP','ERP']\n",
    "\n",
    "model = pd.read_csv('machine.csv', names=titles)"
   ]
  },
  {
   "cell_type": "code",
   "execution_count": 184,
   "metadata": {},
   "outputs": [
    {
     "data": {
      "text/html": [
       "<div>\n",
       "<style scoped>\n",
       "    .dataframe tbody tr th:only-of-type {\n",
       "        vertical-align: middle;\n",
       "    }\n",
       "\n",
       "    .dataframe tbody tr th {\n",
       "        vertical-align: top;\n",
       "    }\n",
       "\n",
       "    .dataframe thead th {\n",
       "        text-align: right;\n",
       "    }\n",
       "</style>\n",
       "<table border=\"1\" class=\"dataframe\">\n",
       "  <thead>\n",
       "    <tr style=\"text-align: right;\">\n",
       "      <th></th>\n",
       "      <th>vendor_name</th>\n",
       "      <th>model_name</th>\n",
       "      <th>MYCT</th>\n",
       "      <th>MMIN</th>\n",
       "      <th>MMAX</th>\n",
       "      <th>CACH</th>\n",
       "      <th>CHMIN</th>\n",
       "      <th>CHMAX</th>\n",
       "      <th>PRP</th>\n",
       "      <th>ERP</th>\n",
       "    </tr>\n",
       "  </thead>\n",
       "  <tbody>\n",
       "    <tr>\n",
       "      <th>0</th>\n",
       "      <td>adviser</td>\n",
       "      <td>32/60</td>\n",
       "      <td>125</td>\n",
       "      <td>256</td>\n",
       "      <td>6000</td>\n",
       "      <td>256</td>\n",
       "      <td>16</td>\n",
       "      <td>128</td>\n",
       "      <td>198</td>\n",
       "      <td>199</td>\n",
       "    </tr>\n",
       "    <tr>\n",
       "      <th>1</th>\n",
       "      <td>amdahl</td>\n",
       "      <td>470v/7</td>\n",
       "      <td>29</td>\n",
       "      <td>8000</td>\n",
       "      <td>32000</td>\n",
       "      <td>32</td>\n",
       "      <td>8</td>\n",
       "      <td>32</td>\n",
       "      <td>269</td>\n",
       "      <td>253</td>\n",
       "    </tr>\n",
       "    <tr>\n",
       "      <th>2</th>\n",
       "      <td>amdahl</td>\n",
       "      <td>470v/7a</td>\n",
       "      <td>29</td>\n",
       "      <td>8000</td>\n",
       "      <td>32000</td>\n",
       "      <td>32</td>\n",
       "      <td>8</td>\n",
       "      <td>32</td>\n",
       "      <td>220</td>\n",
       "      <td>253</td>\n",
       "    </tr>\n",
       "    <tr>\n",
       "      <th>3</th>\n",
       "      <td>amdahl</td>\n",
       "      <td>470v/7b</td>\n",
       "      <td>29</td>\n",
       "      <td>8000</td>\n",
       "      <td>32000</td>\n",
       "      <td>32</td>\n",
       "      <td>8</td>\n",
       "      <td>32</td>\n",
       "      <td>172</td>\n",
       "      <td>253</td>\n",
       "    </tr>\n",
       "    <tr>\n",
       "      <th>4</th>\n",
       "      <td>amdahl</td>\n",
       "      <td>470v/7c</td>\n",
       "      <td>29</td>\n",
       "      <td>8000</td>\n",
       "      <td>16000</td>\n",
       "      <td>32</td>\n",
       "      <td>8</td>\n",
       "      <td>16</td>\n",
       "      <td>132</td>\n",
       "      <td>132</td>\n",
       "    </tr>\n",
       "  </tbody>\n",
       "</table>\n",
       "</div>"
      ],
      "text/plain": [
       "  vendor_name model_name  MYCT  MMIN   MMAX  CACH  CHMIN  CHMAX  PRP  ERP\n",
       "0     adviser      32/60   125   256   6000   256     16    128  198  199\n",
       "1      amdahl     470v/7    29  8000  32000    32      8     32  269  253\n",
       "2      amdahl    470v/7a    29  8000  32000    32      8     32  220  253\n",
       "3      amdahl    470v/7b    29  8000  32000    32      8     32  172  253\n",
       "4      amdahl    470v/7c    29  8000  16000    32      8     16  132  132"
      ]
     },
     "execution_count": 184,
     "metadata": {},
     "output_type": "execute_result"
    }
   ],
   "source": [
    "model.head()"
   ]
  },
  {
   "cell_type": "code",
   "execution_count": 185,
   "metadata": {},
   "outputs": [
    {
     "data": {
      "text/plain": [
       "Index(['vendor_name', 'model_name', 'MYCT', 'MMIN', 'MMAX', 'CACH', 'CHMIN',\n",
       "       'CHMAX', 'PRP', 'ERP'],\n",
       "      dtype='object')"
      ]
     },
     "execution_count": 185,
     "metadata": {},
     "output_type": "execute_result"
    }
   ],
   "source": [
    "model.columns"
   ]
  },
  {
   "cell_type": "code",
   "execution_count": 186,
   "metadata": {},
   "outputs": [
    {
     "data": {
      "text/html": [
       "<div>\n",
       "<style scoped>\n",
       "    .dataframe tbody tr th:only-of-type {\n",
       "        vertical-align: middle;\n",
       "    }\n",
       "\n",
       "    .dataframe tbody tr th {\n",
       "        vertical-align: top;\n",
       "    }\n",
       "\n",
       "    .dataframe thead th {\n",
       "        text-align: right;\n",
       "    }\n",
       "</style>\n",
       "<table border=\"1\" class=\"dataframe\">\n",
       "  <thead>\n",
       "    <tr style=\"text-align: right;\">\n",
       "      <th></th>\n",
       "      <th>MYCT</th>\n",
       "      <th>MMIN</th>\n",
       "      <th>MMAX</th>\n",
       "      <th>CACH</th>\n",
       "      <th>CHMIN</th>\n",
       "      <th>CHMAX</th>\n",
       "      <th>PRP</th>\n",
       "      <th>ERP</th>\n",
       "    </tr>\n",
       "  </thead>\n",
       "  <tbody>\n",
       "    <tr>\n",
       "      <th>count</th>\n",
       "      <td>209.000000</td>\n",
       "      <td>209.000000</td>\n",
       "      <td>209.000000</td>\n",
       "      <td>209.000000</td>\n",
       "      <td>209.000000</td>\n",
       "      <td>209.000000</td>\n",
       "      <td>209.000000</td>\n",
       "      <td>209.000000</td>\n",
       "    </tr>\n",
       "    <tr>\n",
       "      <th>mean</th>\n",
       "      <td>203.822967</td>\n",
       "      <td>2867.980861</td>\n",
       "      <td>11796.153110</td>\n",
       "      <td>25.205742</td>\n",
       "      <td>4.698565</td>\n",
       "      <td>18.267943</td>\n",
       "      <td>105.622010</td>\n",
       "      <td>99.330144</td>\n",
       "    </tr>\n",
       "    <tr>\n",
       "      <th>std</th>\n",
       "      <td>260.262926</td>\n",
       "      <td>3878.742758</td>\n",
       "      <td>11726.564377</td>\n",
       "      <td>40.628722</td>\n",
       "      <td>6.816274</td>\n",
       "      <td>25.997318</td>\n",
       "      <td>160.830733</td>\n",
       "      <td>154.757102</td>\n",
       "    </tr>\n",
       "    <tr>\n",
       "      <th>min</th>\n",
       "      <td>17.000000</td>\n",
       "      <td>64.000000</td>\n",
       "      <td>64.000000</td>\n",
       "      <td>0.000000</td>\n",
       "      <td>0.000000</td>\n",
       "      <td>0.000000</td>\n",
       "      <td>6.000000</td>\n",
       "      <td>15.000000</td>\n",
       "    </tr>\n",
       "    <tr>\n",
       "      <th>25%</th>\n",
       "      <td>50.000000</td>\n",
       "      <td>768.000000</td>\n",
       "      <td>4000.000000</td>\n",
       "      <td>0.000000</td>\n",
       "      <td>1.000000</td>\n",
       "      <td>5.000000</td>\n",
       "      <td>27.000000</td>\n",
       "      <td>28.000000</td>\n",
       "    </tr>\n",
       "    <tr>\n",
       "      <th>50%</th>\n",
       "      <td>110.000000</td>\n",
       "      <td>2000.000000</td>\n",
       "      <td>8000.000000</td>\n",
       "      <td>8.000000</td>\n",
       "      <td>2.000000</td>\n",
       "      <td>8.000000</td>\n",
       "      <td>50.000000</td>\n",
       "      <td>45.000000</td>\n",
       "    </tr>\n",
       "    <tr>\n",
       "      <th>75%</th>\n",
       "      <td>225.000000</td>\n",
       "      <td>4000.000000</td>\n",
       "      <td>16000.000000</td>\n",
       "      <td>32.000000</td>\n",
       "      <td>6.000000</td>\n",
       "      <td>24.000000</td>\n",
       "      <td>113.000000</td>\n",
       "      <td>101.000000</td>\n",
       "    </tr>\n",
       "    <tr>\n",
       "      <th>max</th>\n",
       "      <td>1500.000000</td>\n",
       "      <td>32000.000000</td>\n",
       "      <td>64000.000000</td>\n",
       "      <td>256.000000</td>\n",
       "      <td>52.000000</td>\n",
       "      <td>176.000000</td>\n",
       "      <td>1150.000000</td>\n",
       "      <td>1238.000000</td>\n",
       "    </tr>\n",
       "  </tbody>\n",
       "</table>\n",
       "</div>"
      ],
      "text/plain": [
       "              MYCT          MMIN          MMAX        CACH       CHMIN  \\\n",
       "count   209.000000    209.000000    209.000000  209.000000  209.000000   \n",
       "mean    203.822967   2867.980861  11796.153110   25.205742    4.698565   \n",
       "std     260.262926   3878.742758  11726.564377   40.628722    6.816274   \n",
       "min      17.000000     64.000000     64.000000    0.000000    0.000000   \n",
       "25%      50.000000    768.000000   4000.000000    0.000000    1.000000   \n",
       "50%     110.000000   2000.000000   8000.000000    8.000000    2.000000   \n",
       "75%     225.000000   4000.000000  16000.000000   32.000000    6.000000   \n",
       "max    1500.000000  32000.000000  64000.000000  256.000000   52.000000   \n",
       "\n",
       "            CHMAX          PRP          ERP  \n",
       "count  209.000000   209.000000   209.000000  \n",
       "mean    18.267943   105.622010    99.330144  \n",
       "std     25.997318   160.830733   154.757102  \n",
       "min      0.000000     6.000000    15.000000  \n",
       "25%      5.000000    27.000000    28.000000  \n",
       "50%      8.000000    50.000000    45.000000  \n",
       "75%     24.000000   113.000000   101.000000  \n",
       "max    176.000000  1150.000000  1238.000000  "
      ]
     },
     "execution_count": 186,
     "metadata": {},
     "output_type": "execute_result"
    }
   ],
   "source": [
    "model.describe()"
   ]
  },
  {
   "cell_type": "code",
   "execution_count": 187,
   "metadata": {},
   "outputs": [
    {
     "data": {
      "text/plain": [
       "(209, 10)"
      ]
     },
     "execution_count": 187,
     "metadata": {},
     "output_type": "execute_result"
    }
   ],
   "source": [
    "model.shape"
   ]
  },
  {
   "cell_type": "code",
   "execution_count": 188,
   "metadata": {},
   "outputs": [],
   "source": [
    "vendor = model['vendor_name'].unique()\n",
    "\n",
    "for i,vendor_name in enumerate(vendor):\n",
    "#     print(i)\n",
    "#     print(vendor)\n",
    "    model.replace(vendor_name,i,inplace=True)"
   ]
  },
  {
   "cell_type": "code",
   "execution_count": 189,
   "metadata": {},
   "outputs": [
    {
     "data": {
      "text/html": [
       "<div>\n",
       "<style scoped>\n",
       "    .dataframe tbody tr th:only-of-type {\n",
       "        vertical-align: middle;\n",
       "    }\n",
       "\n",
       "    .dataframe tbody tr th {\n",
       "        vertical-align: top;\n",
       "    }\n",
       "\n",
       "    .dataframe thead th {\n",
       "        text-align: right;\n",
       "    }\n",
       "</style>\n",
       "<table border=\"1\" class=\"dataframe\">\n",
       "  <thead>\n",
       "    <tr style=\"text-align: right;\">\n",
       "      <th></th>\n",
       "      <th>vendor_name</th>\n",
       "      <th>MYCT</th>\n",
       "      <th>MMIN</th>\n",
       "      <th>MMAX</th>\n",
       "      <th>CACH</th>\n",
       "      <th>CHMIN</th>\n",
       "      <th>CHMAX</th>\n",
       "      <th>PRP</th>\n",
       "      <th>ERP</th>\n",
       "    </tr>\n",
       "  </thead>\n",
       "  <tbody>\n",
       "    <tr>\n",
       "      <th>vendor_name</th>\n",
       "      <td>1.000000</td>\n",
       "      <td>-0.073559</td>\n",
       "      <td>-0.085147</td>\n",
       "      <td>0.013210</td>\n",
       "      <td>0.001391</td>\n",
       "      <td>0.031431</td>\n",
       "      <td>-0.009727</td>\n",
       "      <td>-0.023770</td>\n",
       "      <td>-0.019993</td>\n",
       "    </tr>\n",
       "    <tr>\n",
       "      <th>MYCT</th>\n",
       "      <td>-0.073559</td>\n",
       "      <td>1.000000</td>\n",
       "      <td>-0.335642</td>\n",
       "      <td>-0.378561</td>\n",
       "      <td>-0.321000</td>\n",
       "      <td>-0.301090</td>\n",
       "      <td>-0.250502</td>\n",
       "      <td>-0.307099</td>\n",
       "      <td>-0.288396</td>\n",
       "    </tr>\n",
       "    <tr>\n",
       "      <th>MMIN</th>\n",
       "      <td>-0.085147</td>\n",
       "      <td>-0.335642</td>\n",
       "      <td>1.000000</td>\n",
       "      <td>0.758157</td>\n",
       "      <td>0.534729</td>\n",
       "      <td>0.517189</td>\n",
       "      <td>0.266907</td>\n",
       "      <td>0.794931</td>\n",
       "      <td>0.819292</td>\n",
       "    </tr>\n",
       "    <tr>\n",
       "      <th>MMAX</th>\n",
       "      <td>0.013210</td>\n",
       "      <td>-0.378561</td>\n",
       "      <td>0.758157</td>\n",
       "      <td>1.000000</td>\n",
       "      <td>0.537990</td>\n",
       "      <td>0.560513</td>\n",
       "      <td>0.527246</td>\n",
       "      <td>0.863004</td>\n",
       "      <td>0.901202</td>\n",
       "    </tr>\n",
       "    <tr>\n",
       "      <th>CACH</th>\n",
       "      <td>0.001391</td>\n",
       "      <td>-0.321000</td>\n",
       "      <td>0.534729</td>\n",
       "      <td>0.537990</td>\n",
       "      <td>1.000000</td>\n",
       "      <td>0.582245</td>\n",
       "      <td>0.487846</td>\n",
       "      <td>0.662641</td>\n",
       "      <td>0.648620</td>\n",
       "    </tr>\n",
       "    <tr>\n",
       "      <th>CHMIN</th>\n",
       "      <td>0.031431</td>\n",
       "      <td>-0.301090</td>\n",
       "      <td>0.517189</td>\n",
       "      <td>0.560513</td>\n",
       "      <td>0.582245</td>\n",
       "      <td>1.000000</td>\n",
       "      <td>0.548281</td>\n",
       "      <td>0.608903</td>\n",
       "      <td>0.610580</td>\n",
       "    </tr>\n",
       "    <tr>\n",
       "      <th>CHMAX</th>\n",
       "      <td>-0.009727</td>\n",
       "      <td>-0.250502</td>\n",
       "      <td>0.266907</td>\n",
       "      <td>0.527246</td>\n",
       "      <td>0.487846</td>\n",
       "      <td>0.548281</td>\n",
       "      <td>1.000000</td>\n",
       "      <td>0.605209</td>\n",
       "      <td>0.592156</td>\n",
       "    </tr>\n",
       "    <tr>\n",
       "      <th>PRP</th>\n",
       "      <td>-0.023770</td>\n",
       "      <td>-0.307099</td>\n",
       "      <td>0.794931</td>\n",
       "      <td>0.863004</td>\n",
       "      <td>0.662641</td>\n",
       "      <td>0.608903</td>\n",
       "      <td>0.605209</td>\n",
       "      <td>1.000000</td>\n",
       "      <td>0.966472</td>\n",
       "    </tr>\n",
       "    <tr>\n",
       "      <th>ERP</th>\n",
       "      <td>-0.019993</td>\n",
       "      <td>-0.288396</td>\n",
       "      <td>0.819292</td>\n",
       "      <td>0.901202</td>\n",
       "      <td>0.648620</td>\n",
       "      <td>0.610580</td>\n",
       "      <td>0.592156</td>\n",
       "      <td>0.966472</td>\n",
       "      <td>1.000000</td>\n",
       "    </tr>\n",
       "  </tbody>\n",
       "</table>\n",
       "</div>"
      ],
      "text/plain": [
       "             vendor_name      MYCT      MMIN      MMAX      CACH     CHMIN  \\\n",
       "vendor_name     1.000000 -0.073559 -0.085147  0.013210  0.001391  0.031431   \n",
       "MYCT           -0.073559  1.000000 -0.335642 -0.378561 -0.321000 -0.301090   \n",
       "MMIN           -0.085147 -0.335642  1.000000  0.758157  0.534729  0.517189   \n",
       "MMAX            0.013210 -0.378561  0.758157  1.000000  0.537990  0.560513   \n",
       "CACH            0.001391 -0.321000  0.534729  0.537990  1.000000  0.582245   \n",
       "CHMIN           0.031431 -0.301090  0.517189  0.560513  0.582245  1.000000   \n",
       "CHMAX          -0.009727 -0.250502  0.266907  0.527246  0.487846  0.548281   \n",
       "PRP            -0.023770 -0.307099  0.794931  0.863004  0.662641  0.608903   \n",
       "ERP            -0.019993 -0.288396  0.819292  0.901202  0.648620  0.610580   \n",
       "\n",
       "                CHMAX       PRP       ERP  \n",
       "vendor_name -0.009727 -0.023770 -0.019993  \n",
       "MYCT        -0.250502 -0.307099 -0.288396  \n",
       "MMIN         0.266907  0.794931  0.819292  \n",
       "MMAX         0.527246  0.863004  0.901202  \n",
       "CACH         0.487846  0.662641  0.648620  \n",
       "CHMIN        0.548281  0.608903  0.610580  \n",
       "CHMAX        1.000000  0.605209  0.592156  \n",
       "PRP          0.605209  1.000000  0.966472  \n",
       "ERP          0.592156  0.966472  1.000000  "
      ]
     },
     "execution_count": 189,
     "metadata": {},
     "output_type": "execute_result"
    }
   ],
   "source": [
    "model.corr(method='pearson')"
   ]
  },
  {
   "cell_type": "code",
   "execution_count": 190,
   "metadata": {},
   "outputs": [],
   "source": [
    "model.drop(['PRP','model_name'], axis=1, inplace=True)"
   ]
  },
  {
   "cell_type": "code",
   "execution_count": 191,
   "metadata": {},
   "outputs": [
    {
     "data": {
      "text/plain": [
       "Index(['vendor_name', 'MYCT', 'MMIN', 'MMAX', 'CACH', 'CHMIN', 'CHMAX', 'ERP'], dtype='object')"
      ]
     },
     "execution_count": 191,
     "metadata": {},
     "output_type": "execute_result"
    }
   ],
   "source": [
    "model.columns"
   ]
  },
  {
   "cell_type": "code",
   "execution_count": 192,
   "metadata": {},
   "outputs": [],
   "source": [
    "y = model['ERP']"
   ]
  },
  {
   "cell_type": "code",
   "execution_count": 193,
   "metadata": {},
   "outputs": [
    {
     "data": {
      "text/plain": [
       "(209,)"
      ]
     },
     "execution_count": 193,
     "metadata": {},
     "output_type": "execute_result"
    }
   ],
   "source": [
    "y.shape"
   ]
  },
  {
   "cell_type": "code",
   "execution_count": 194,
   "metadata": {},
   "outputs": [],
   "source": [
    "x = model.drop('ERP', axis=1)"
   ]
  },
  {
   "cell_type": "code",
   "execution_count": 195,
   "metadata": {},
   "outputs": [
    {
     "data": {
      "text/html": [
       "<div>\n",
       "<style scoped>\n",
       "    .dataframe tbody tr th:only-of-type {\n",
       "        vertical-align: middle;\n",
       "    }\n",
       "\n",
       "    .dataframe tbody tr th {\n",
       "        vertical-align: top;\n",
       "    }\n",
       "\n",
       "    .dataframe thead th {\n",
       "        text-align: right;\n",
       "    }\n",
       "</style>\n",
       "<table border=\"1\" class=\"dataframe\">\n",
       "  <thead>\n",
       "    <tr style=\"text-align: right;\">\n",
       "      <th></th>\n",
       "      <th>vendor_name</th>\n",
       "      <th>MYCT</th>\n",
       "      <th>MMIN</th>\n",
       "      <th>MMAX</th>\n",
       "      <th>CACH</th>\n",
       "      <th>CHMIN</th>\n",
       "      <th>CHMAX</th>\n",
       "    </tr>\n",
       "  </thead>\n",
       "  <tbody>\n",
       "    <tr>\n",
       "      <th>0</th>\n",
       "      <td>0</td>\n",
       "      <td>125</td>\n",
       "      <td>256</td>\n",
       "      <td>6000</td>\n",
       "      <td>256</td>\n",
       "      <td>16</td>\n",
       "      <td>128</td>\n",
       "    </tr>\n",
       "    <tr>\n",
       "      <th>1</th>\n",
       "      <td>1</td>\n",
       "      <td>29</td>\n",
       "      <td>8000</td>\n",
       "      <td>32000</td>\n",
       "      <td>32</td>\n",
       "      <td>8</td>\n",
       "      <td>32</td>\n",
       "    </tr>\n",
       "    <tr>\n",
       "      <th>2</th>\n",
       "      <td>1</td>\n",
       "      <td>29</td>\n",
       "      <td>8000</td>\n",
       "      <td>32000</td>\n",
       "      <td>32</td>\n",
       "      <td>8</td>\n",
       "      <td>32</td>\n",
       "    </tr>\n",
       "    <tr>\n",
       "      <th>3</th>\n",
       "      <td>1</td>\n",
       "      <td>29</td>\n",
       "      <td>8000</td>\n",
       "      <td>32000</td>\n",
       "      <td>32</td>\n",
       "      <td>8</td>\n",
       "      <td>32</td>\n",
       "    </tr>\n",
       "    <tr>\n",
       "      <th>4</th>\n",
       "      <td>1</td>\n",
       "      <td>29</td>\n",
       "      <td>8000</td>\n",
       "      <td>16000</td>\n",
       "      <td>32</td>\n",
       "      <td>8</td>\n",
       "      <td>16</td>\n",
       "    </tr>\n",
       "  </tbody>\n",
       "</table>\n",
       "</div>"
      ],
      "text/plain": [
       "   vendor_name  MYCT  MMIN   MMAX  CACH  CHMIN  CHMAX\n",
       "0            0   125   256   6000   256     16    128\n",
       "1            1    29  8000  32000    32      8     32\n",
       "2            1    29  8000  32000    32      8     32\n",
       "3            1    29  8000  32000    32      8     32\n",
       "4            1    29  8000  16000    32      8     16"
      ]
     },
     "execution_count": 195,
     "metadata": {},
     "output_type": "execute_result"
    }
   ],
   "source": [
    "x.head()"
   ]
  },
  {
   "cell_type": "code",
   "execution_count": 211,
   "metadata": {},
   "outputs": [
    {
     "data": {
      "text/plain": [
       "<seaborn.axisgrid.PairGrid at 0x2ff24ad0>"
      ]
     },
     "execution_count": 211,
     "metadata": {},
     "output_type": "execute_result"
    },
    {
     "data": {
      "image/png": "[encoded data removed]",
      "text/plain": [
       "<Figure size 1512x360 with 6 Axes>"
      ]
     },
     "metadata": {
      "needs_background": "light"
     },
     "output_type": "display_data"
    }
   ],
   "source": [
    "sns.pairplot(model, x_vars=['MYCT','MMIN','MMAX','CACH', 'CHMIN','CHMAX'], y_vars='ERP', height=5, aspect=0.7)"
   ]
  },
  {
   "cell_type": "code",
   "execution_count": 197,
   "metadata": {},
   "outputs": [],
   "source": [
    "x = x.to_numpy()"
   ]
  },
  {
   "cell_type": "code",
   "execution_count": 198,
   "metadata": {},
   "outputs": [],
   "source": [
    "y = y.to_numpy()"
   ]
  },
  {
   "cell_type": "code",
   "execution_count": 199,
   "metadata": {},
   "outputs": [],
   "source": [
    "reg = LinearRegression()"
   ]
  },
  {
   "cell_type": "code",
   "execution_count": 200,
   "metadata": {},
   "outputs": [
    {
     "data": {
      "text/plain": [
       "LinearRegression(copy_X=True, fit_intercept=True, n_jobs=None, normalize=False)"
      ]
     },
     "execution_count": 200,
     "metadata": {},
     "output_type": "execute_result"
    }
   ],
   "source": [
    "reg.fit(x,y)"
   ]
  },
  {
   "cell_type": "code",
   "execution_count": 201,
   "metadata": {},
   "outputs": [],
   "source": [
    "#x_train, x_test, y_train, y_test = train_test_split(x,y,random_state=1)"
   ]
  },
  {
   "cell_type": "code",
   "execution_count": 202,
   "metadata": {},
   "outputs": [],
   "source": [
    "#print(x_train.shape)\n",
    "#print(x_test.shape)\n",
    "#print(y_train.shape)\n",
    "#print(y_test.shape)"
   ]
  },
  {
   "cell_type": "code",
   "execution_count": 203,
   "metadata": {},
   "outputs": [],
   "source": [
    "#reg.fit(x_train,y_train)"
   ]
  },
  {
   "cell_type": "code",
   "execution_count": 204,
   "metadata": {},
   "outputs": [
    {
     "name": "stdout",
     "output_type": "stream",
     "text": [
      "-71.52530593625518\n"
     ]
    }
   ],
   "source": [
    "print(reg.intercept_)"
   ]
  },
  {
   "cell_type": "code",
   "execution_count": 205,
   "metadata": {},
   "outputs": [
    {
     "name": "stdout",
     "output_type": "stream",
     "text": [
      "[ 0.30308322  0.06675387  0.01448586  0.0065501   0.49284836 -0.20568163\n",
      "  1.21243689]\n"
     ]
    }
   ],
   "source": [
    "print(reg.coef_)"
   ]
  },
  {
   "cell_type": "code",
   "execution_count": 206,
   "metadata": {},
   "outputs": [],
   "source": [
    "y_new = reg.predict(x)"
   ]
  },
  {
   "cell_type": "code",
   "execution_count": 207,
   "metadata": {},
   "outputs": [
    {
     "data": {
      "text/plain": [
       "array([ 2.57898112e+02,  3.09127443e+02,  3.09127443e+02,  3.09127443e+02,\n",
       "        1.84926832e+02,  3.24698329e+02,  4.38739500e+02,  4.38739500e+02,\n",
       "        6.48342743e+02,  9.47165884e+02, -7.86223288e+00, -4.83514125e+00,\n",
       "        5.62906651e+01,  1.36995658e+02, -4.09587495e+01,  9.32314379e+01,\n",
       "       -1.68645854e+01,  1.70613907e+01, -1.45074403e+01,  1.88447822e+02,\n",
       "        4.02999161e+01,  4.82730404e+01,  8.98258935e+01,  9.92117042e+01,\n",
       "        7.15279241e+00, -2.24255810e+01,  1.73236123e+00, -1.95838600e+01,\n",
       "       -3.50403220e-01, -2.84634668e+00,  5.95963072e+01,  5.95963072e+01,\n",
       "        8.19477440e+01,  8.19477440e+01,  1.89011785e+02,  1.89545816e+02,\n",
       "       -3.71360439e+01, -1.55804739e+01,  2.51057921e+01, -1.56887540e+01,\n",
       "        1.05116514e+01,  7.73983228e+01,  7.86107597e+01,  7.86107597e+01,\n",
       "        5.15356181e+01,  2.53352128e+01,  9.93035917e-01,  3.35162039e+01,\n",
       "        2.02091504e+01,  1.78073896e+01,  3.72033747e+01, -3.95142346e+00,\n",
       "        7.14557535e+01,  1.39621647e+01, -1.03605156e+01,  4.20402950e+01,\n",
       "        2.31828159e+01,  4.59649659e+01,  4.59649659e+01,  4.59649659e+01,\n",
       "        4.59649659e+01,  4.59649659e+01, -2.29739262e+01,  9.62030638e+01,\n",
       "        1.48603874e+02,  1.80146169e+02, -3.95084865e+01, -3.19570770e+01,\n",
       "        8.89472253e+00,  2.12611857e+01,  5.15211592e+01,  9.51055054e+01,\n",
       "       -1.03101893e+01,  1.16869453e+01,  1.46440355e+01,  7.35949475e+01,\n",
       "        2.25405055e+01,  6.90607851e+01, -8.31964650e+00,  7.50999490e+01,\n",
       "       -6.07264688e+00,  7.49581570e+01,  2.11962026e+02, -1.48419404e+01,\n",
       "        2.69664661e+00,  4.49927123e+00,  6.71846338e+00,  2.58275379e+01,\n",
       "        2.21058736e+02,  1.05079158e+02,  2.62281590e+02,  2.62281590e+02,\n",
       "        2.58275379e+01,  1.13985145e+02,  2.01051060e+02,  4.34089598e+02,\n",
       "        4.35735051e+02,  2.88305870e+02,  1.73804754e+02, -2.85799818e+01,\n",
       "       -1.93792885e+01,  2.97568646e+00,  2.53050385e+01,  3.22884695e+01,\n",
       "       -1.08846767e+00,  1.65075406e+01,  7.16796674e+01,  1.69607499e+01,\n",
       "        9.89164983e+00,  3.85824473e+01,  4.05538407e+01,  5.55352989e+01,\n",
       "        1.44192206e+01,  1.44192206e+01,  3.80270649e+01,  9.47044318e+01,\n",
       "        9.43706624e+01, -3.02373026e+00,  5.14557459e+01,  5.61996064e+01,\n",
       "        1.14764929e+02,  1.26593289e+02,  5.14331626e+01,  5.79832639e+01,\n",
       "        1.12555519e+01, -9.02411022e-01,  2.92407812e+01,  2.96521444e+01,\n",
       "        8.99385288e+01,  8.99385288e+01,  1.93531801e+02,  1.46585921e+01,\n",
       "        2.64869527e+01,  2.62812711e+01,  9.60404374e+01,  1.01337573e+02,\n",
       "        1.01337573e+02,  1.31713075e+02,  3.52058721e+01,  4.53046355e+00,\n",
       "        4.51934174e+01,  4.51934174e+01,  3.13936634e+01,  1.17545560e+02,\n",
       "        1.24429826e+02,  1.12831399e+02,  1.41803120e+02,  1.43560455e+02,\n",
       "        1.51686617e+02,  3.73692318e+01,  1.91722789e+02,  3.21995052e+02,\n",
       "        3.21661283e+02,  4.77344768e+02,  1.96413682e+02,  3.21861545e+02,\n",
       "        5.30195831e+02, -3.17010132e+01, -2.45951466e+01, -1.33640524e+01,\n",
       "        1.66468848e+01,  2.97470875e+01,  5.87188090e+01,  8.49192143e+01,\n",
       "        1.11119620e+02,  9.93016476e+01,  9.93016476e+01,  1.98786743e+02,\n",
       "        2.98500996e+02,  1.99015901e+02, -2.13983615e+01, -5.87328505e+00,\n",
       "        6.75677128e+01, -5.66429748e+00, -6.28134237e+00,  8.17113038e+01,\n",
       "       -1.28082400e+01, -2.26824953e+01,  8.12988220e+00,  3.82730744e+01,\n",
       "        5.94320720e+01, -2.62829345e+01, -1.73079594e+01,  1.15613785e+01,\n",
       "        3.76868182e+01,  4.87735104e+01,  1.32068787e+02,  8.99804801e+01,\n",
       "        1.05924296e+02,  2.19154444e+02,  2.44704461e+02,  3.12053693e+02,\n",
       "        3.60526798e+02,  7.44648948e+01,  2.20688229e+02,  2.59926316e+02,\n",
       "        3.49167607e+02,  3.78139328e+02,  7.31988084e+02,  7.47759232e+02,\n",
       "       -1.78990318e+01, -1.42775666e+01, -1.78990318e+01, -1.42775666e+01,\n",
       "        2.13159063e+01,  3.51457714e+01,  4.32405438e+01,  4.48946859e+01,\n",
       "        9.99223312e+00])"
      ]
     },
     "execution_count": 207,
     "metadata": {},
     "output_type": "execute_result"
    }
   ],
   "source": [
    "y_new"
   ]
  },
  {
   "cell_type": "code",
   "execution_count": 208,
   "metadata": {},
   "outputs": [
    {
     "data": {
      "text/plain": [
       "array([ 199,  253,  253,  253,  132,  290,  381,  381,  749, 1238,   23,\n",
       "         24,   70,  117,   15,   64,   23,   29,   22,  124,   35,   39,\n",
       "         40,   45,   28,   21,   28,   22,   28,   27,  102,  102,   74,\n",
       "         74,  138,  136,   23,   29,   44,   30,   41,   74,   74,   74,\n",
       "         54,   41,   18,   28,   36,   38,   34,   19,   72,   36,   30,\n",
       "         56,   42,   34,   34,   34,   34,   34,   19,   75,  113,  157,\n",
       "         18,   20,   28,   33,   47,   54,   20,   23,   25,   52,   27,\n",
       "         50,   18,   53,   23,   30,   73,   20,   25,   28,   29,   32,\n",
       "        175,   57,  181,  181,   32,   82,  171,  361,  350,  220,  113,\n",
       "         15,   21,   35,   18,   20,   20,   28,   45,   18,   17,   26,\n",
       "         28,   28,   31,   31,   42,   76,   76,   26,   59,   65,  101,\n",
       "        116,   18,   20,   20,   30,   44,   44,   82,   82,  128,   37,\n",
       "         46,   46,   80,   88,   88,   33,   46,   29,   53,   53,   41,\n",
       "         86,   95,  107,  117,  119,  120,   48,  126,  266,  270,  426,\n",
       "        151,  267,  603,   19,   21,   26,   35,   41,   47,   62,   78,\n",
       "         80,   80,  142,  281,  190,   21,   25,   67,   24,   24,   64,\n",
       "         25,   20,   29,   43,   53,   19,   22,   31,   41,   47,   99,\n",
       "         67,   81,  149,  183,  275,  382,   56,  182,  227,  341,  360,\n",
       "        919,  978,   24,   24,   24,   24,   37,   50,   41,   47,   25],\n",
       "      dtype=int64)"
      ]
     },
     "execution_count": 208,
     "metadata": {},
     "output_type": "execute_result"
    }
   ],
   "source": [
    "y"
   ]
  },
  {
   "cell_type": "code",
   "execution_count": 212,
   "metadata": {},
   "outputs": [
    {
     "data": {
      "text/plain": [
       "0.911077117161752"
      ]
     },
     "execution_count": 212,
     "metadata": {},
     "output_type": "execute_result"
    }
   ],
   "source": [
    "reg.score(x,y)"
   ]
  },
  {
   "cell_type": "code",
   "execution_count": null,
   "metadata": {},
   "outputs": [],
   "source": []
  }
 ],
 "metadata": {
  "kernelspec": {
   "display_name": "Python 3",
   "language": "python",
   "name": "python3"
  },
  "language_info": {
   "codemirror_mode": {
    "name": "ipython",
    "version": 3
   },
   "file_extension": ".py",
   "mimetype": "text/x-python",
   "name": "python",
   "nbconvert_exporter": "python",
   "pygments_lexer": "ipython3",
   "version": "3.7.6"
  }
 },
 "nbformat": 4,
 "nbformat_minor": 4
}
