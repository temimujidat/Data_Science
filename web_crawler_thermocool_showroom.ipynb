{
 "cells": [
  {
   "cell_type": "code",
   "execution_count": 1,
   "metadata": {},
   "outputs": [],
   "source": [
    "# importing required libraries\n",
    "\n",
    "import requests\n",
    "from bs4 import BeautifulSoup\n",
    "import pandas as pd\n",
    "\n",
    "# target URL to scrap\n",
    "url = \"https://thermocoolshowroomabuja.com/\""
   ]
  },
  {
   "cell_type": "code",
   "execution_count": 2,
   "metadata": {},
   "outputs": [],
   "source": [
    "# send request to download the data\n",
    "req = requests.get(url)"
   ]
  },
  {
   "cell_type": "code",
   "execution_count": 3,
   "metadata": {},
   "outputs": [
    {
     "name": "stdout",
     "output_type": "stream",
     "text": [
      "!DOCTYPE html>\n",
      "<html lang=\"en-US\" xmlns:og=\"http://opengraphprotocol.org/schema/\" xmlns:fb=\"http://www.facebook.com/2008/fbml\" prefix=\"og: http://ogp.me/ns#\">\n",
      "<head>\n",
      "    \t<meta charset=\"UTF-8\" />\n",
      "\n",
      "  \n"
     ]
    }
   ],
   "source": [
    "print (req.text[1:200])"
   ]
  },
  {
   "cell_type": "code",
   "execution_count": 4,
   "metadata": {},
   "outputs": [],
   "source": [
    "# parse the downloaded data\n",
    "soup = BeautifulSoup(req.text,'html.parser')"
   ]
  },
  {
   "cell_type": "code",
   "execution_count": 5,
   "metadata": {},
   "outputs": [],
   "source": [
    "# find all the sections with specifiedd class name\n",
    "results = soup.find_all('div', attrs={'class':'product-details'})"
   ]
  },
  {
   "cell_type": "code",
   "execution_count": 6,
   "metadata": {},
   "outputs": [
    {
     "data": {
      "text/plain": [
       "16"
      ]
     },
     "execution_count": 6,
     "metadata": {},
     "output_type": "execute_result"
    }
   ],
   "source": [
    "# total number of results\n",
    "len (results)"
   ]
  },
  {
   "cell_type": "code",
   "execution_count": 7,
   "metadata": {},
   "outputs": [],
   "source": [
    "case1=results[0]"
   ]
  },
  {
   "cell_type": "code",
   "execution_count": 8,
   "metadata": {},
   "outputs": [
    {
     "data": {
      "text/plain": [
       "<div class=\"text-center product-details\">\n",
       "<div class=\"products-page-cats\">\n",
       "<a href=\"https://thermocoolshowroomabuja.com/product-category/water-dispenser/\" rel=\"tag\">Water Dispenser</a> </div>\n",
       "<div class=\"product-title\">\n",
       "<a href=\"https://thermocoolshowroomabuja.com/product/haier-thermocool-water-dispenser-hd-1233bd/\">Haier Thermocool Water Dispenser HD-1233BD</a>\n",
       "</div>\n",
       "<span class=\"price\"><span class=\"woocommerce-Price-amount amount\"><span class=\"woocommerce-Price-currencySymbol\">₦</span>72,760.00</span></span>\n",
       "<div class=\"product-excerpt\">\n",
       "                ...<div class=\"hatom-extra\" style=\"display:none;visibility:hidden;\">was last modified: <span class=\"updated\"> May 25th, 2020</span> by <span class=\"author vcard\"><span class=\"fn\">thermo01</span></span></div> </div>\n",
       "</div>"
      ]
     },
     "execution_count": 8,
     "metadata": {},
     "output_type": "execute_result"
    }
   ],
   "source": [
    "case1"
   ]
  },
  {
   "cell_type": "code",
   "execution_count": 37,
   "metadata": {},
   "outputs": [
    {
     "data": {
      "text/plain": [
       "'Water Dispenser'"
      ]
     },
     "execution_count": 37,
     "metadata": {},
     "output_type": "execute_result"
    }
   ],
   "source": [
    "case1.find('a').text"
   ]
  },
  {
   "cell_type": "code",
   "execution_count": 30,
   "metadata": {},
   "outputs": [
    {
     "data": {
      "text/plain": [
       "'Haier Thermocool Water Dispenser HD-1233BD'"
      ]
     },
     "execution_count": 30,
     "metadata": {},
     "output_type": "execute_result"
    }
   ],
   "source": [
    "case1.contents[3].text[1:-1]"
   ]
  },
  {
   "cell_type": "code",
   "execution_count": 20,
   "metadata": {},
   "outputs": [
    {
     "data": {
      "text/plain": [
       "'₦72,760.00'"
      ]
     },
     "execution_count": 20,
     "metadata": {},
     "output_type": "execute_result"
    }
   ],
   "source": [
    "case1.find('span').text"
   ]
  },
  {
   "cell_type": "code",
   "execution_count": 38,
   "metadata": {},
   "outputs": [],
   "source": [
    "records = []\n",
    "for result in results:\n",
    "    Product_Name = result.find('a').text\n",
    "    Product_Details = result.contents[3].text[1:-1]\n",
    "    Price = result.find('span').text\n",
    "    records.append((Product_Name,Product_Details,Price))"
   ]
  },
  {
   "cell_type": "code",
   "execution_count": 39,
   "metadata": {},
   "outputs": [
    {
     "data": {
      "text/plain": [
       "16"
      ]
     },
     "execution_count": 39,
     "metadata": {},
     "output_type": "execute_result"
    }
   ],
   "source": [
    "len(records)"
   ]
  },
  {
   "cell_type": "code",
   "execution_count": 41,
   "metadata": {},
   "outputs": [],
   "source": [
    "# create a data frame from the list of dictionaries\n",
    "\n",
    "data = pd.DataFrame(records,columns=['Product_Name','Product_Details','Price'])"
   ]
  },
  {
   "cell_type": "code",
   "execution_count": 42,
   "metadata": {},
   "outputs": [
    {
     "data": {
      "text/html": [
       "<div>\n",
       "<style scoped>\n",
       "    .dataframe tbody tr th:only-of-type {\n",
       "        vertical-align: middle;\n",
       "    }\n",
       "\n",
       "    .dataframe tbody tr th {\n",
       "        vertical-align: top;\n",
       "    }\n",
       "\n",
       "    .dataframe thead th {\n",
       "        text-align: right;\n",
       "    }\n",
       "</style>\n",
       "<table border=\"1\" class=\"dataframe\">\n",
       "  <thead>\n",
       "    <tr style=\"text-align: right;\">\n",
       "      <th></th>\n",
       "      <th>Product_Name</th>\n",
       "      <th>Product_Details</th>\n",
       "      <th>Price</th>\n",
       "    </tr>\n",
       "  </thead>\n",
       "  <tbody>\n",
       "    <tr>\n",
       "      <th>0</th>\n",
       "      <td>Water Dispenser</td>\n",
       "      <td>Haier Thermocool Water Dispenser HD-1233BD</td>\n",
       "      <td>₦72,760.00</td>\n",
       "    </tr>\n",
       "    <tr>\n",
       "      <th>1</th>\n",
       "      <td>Water Dispenser</td>\n",
       "      <td>TEC Water Dispenser STOR C/H 85C</td>\n",
       "      <td>₦58,850.00</td>\n",
       "    </tr>\n",
       "    <tr>\n",
       "      <th>2</th>\n",
       "      <td>Water Dispenser</td>\n",
       "      <td>TEC Water Dispenser Ref C/H 808BD</td>\n",
       "      <td>₦72,974.00</td>\n",
       "    </tr>\n",
       "    <tr>\n",
       "      <th>3</th>\n",
       "      <td>Generators</td>\n",
       "      <td>Thermcool Big Boy Max Generator Remote with AT...</td>\n",
       "      <td>₦215,550.00</td>\n",
       "    </tr>\n",
       "    <tr>\n",
       "      <th>4</th>\n",
       "      <td>Refrigerator</td>\n",
       "      <td>Single Door Small Refrigerator HR-134- white</td>\n",
       "      <td>₦57,780.00</td>\n",
       "    </tr>\n",
       "    <tr>\n",
       "      <th>5</th>\n",
       "      <td>Refrigerator</td>\n",
       "      <td>Single Door Medium Refrigerator HR-177 (Silver...</td>\n",
       "      <td>₦104,860.00</td>\n",
       "    </tr>\n",
       "    <tr>\n",
       "      <th>6</th>\n",
       "      <td>Refrigerator</td>\n",
       "      <td>HRF-95 Refrigerator</td>\n",
       "      <td>₦95,123.00</td>\n",
       "    </tr>\n",
       "    <tr>\n",
       "      <th>7</th>\n",
       "      <td>Refrigerator</td>\n",
       "      <td>HRF-200 LUX Refrigerator</td>\n",
       "      <td>₦176,550.00</td>\n",
       "    </tr>\n",
       "    <tr>\n",
       "      <th>8</th>\n",
       "      <td>Generators</td>\n",
       "      <td>Thermocool Tec Bobo Max Electric Generator -2....</td>\n",
       "      <td>₦123,050.00</td>\n",
       "    </tr>\n",
       "    <tr>\n",
       "      <th>9</th>\n",
       "      <td>Generators</td>\n",
       "      <td>Thermocool Generator – 3.0kw/3.3kw – Hustler M...</td>\n",
       "      <td>₦130,540.00</td>\n",
       "    </tr>\n",
       "    <tr>\n",
       "      <th>10</th>\n",
       "      <td>Generators</td>\n",
       "      <td>Thermcool Big Boy Max Generator Remote with AT...</td>\n",
       "      <td>₦215,550.00</td>\n",
       "    </tr>\n",
       "    <tr>\n",
       "      <th>11</th>\n",
       "      <td>Generators</td>\n",
       "      <td>TEC Petrol Generator SMALLIE 1000MS (1kVA/0.8k...</td>\n",
       "      <td>₦51,922.00</td>\n",
       "    </tr>\n",
       "    <tr>\n",
       "      <th>12</th>\n",
       "      <td>Washing Machine</td>\n",
       "      <td>HT Washmachine Topload-Wash 6KG Pink</td>\n",
       "      <td>₦460,100.00</td>\n",
       "    </tr>\n",
       "    <tr>\n",
       "      <th>13</th>\n",
       "      <td>Washing Machine</td>\n",
       "      <td>Haier Thermocool Haier Thermocool Front Load W...</td>\n",
       "      <td>₦187,250.00</td>\n",
       "    </tr>\n",
       "    <tr>\n",
       "      <th>14</th>\n",
       "      <td>Washing Machine</td>\n",
       "      <td>Haier Thermocool Front Load Washing Machine (8...</td>\n",
       "      <td>₦249,999.00</td>\n",
       "    </tr>\n",
       "    <tr>\n",
       "      <th>15</th>\n",
       "      <td>Washing Machine</td>\n",
       "      <td>Haier Thermocool Front Load Washing Machine (7...</td>\n",
       "      <td>₦171,200.00</td>\n",
       "    </tr>\n",
       "  </tbody>\n",
       "</table>\n",
       "</div>"
      ],
      "text/plain": [
       "       Product_Name                                    Product_Details  \\\n",
       "0   Water Dispenser         Haier Thermocool Water Dispenser HD-1233BD   \n",
       "1   Water Dispenser                   TEC Water Dispenser STOR C/H 85C   \n",
       "2   Water Dispenser                  TEC Water Dispenser Ref C/H 808BD   \n",
       "3        Generators  Thermcool Big Boy Max Generator Remote with AT...   \n",
       "4      Refrigerator       Single Door Small Refrigerator HR-134- white   \n",
       "5      Refrigerator  Single Door Medium Refrigerator HR-177 (Silver...   \n",
       "6      Refrigerator                                HRF-95 Refrigerator   \n",
       "7      Refrigerator                           HRF-200 LUX Refrigerator   \n",
       "8        Generators  Thermocool Tec Bobo Max Electric Generator -2....   \n",
       "9        Generators  Thermocool Generator – 3.0kw/3.3kw – Hustler M...   \n",
       "10       Generators  Thermcool Big Boy Max Generator Remote with AT...   \n",
       "11       Generators  TEC Petrol Generator SMALLIE 1000MS (1kVA/0.8k...   \n",
       "12  Washing Machine               HT Washmachine Topload-Wash 6KG Pink   \n",
       "13  Washing Machine  Haier Thermocool Haier Thermocool Front Load W...   \n",
       "14  Washing Machine  Haier Thermocool Front Load Washing Machine (8...   \n",
       "15  Washing Machine  Haier Thermocool Front Load Washing Machine (7...   \n",
       "\n",
       "          Price  \n",
       "0    ₦72,760.00  \n",
       "1    ₦58,850.00  \n",
       "2    ₦72,974.00  \n",
       "3   ₦215,550.00  \n",
       "4    ₦57,780.00  \n",
       "5   ₦104,860.00  \n",
       "6    ₦95,123.00  \n",
       "7   ₦176,550.00  \n",
       "8   ₦123,050.00  \n",
       "9   ₦130,540.00  \n",
       "10  ₦215,550.00  \n",
       "11   ₦51,922.00  \n",
       "12  ₦460,100.00  \n",
       "13  ₦187,250.00  \n",
       "14  ₦249,999.00  \n",
       "15  ₦171,200.00  "
      ]
     },
     "execution_count": 42,
     "metadata": {},
     "output_type": "execute_result"
    }
   ],
   "source": [
    "data"
   ]
  },
  {
   "cell_type": "code",
   "execution_count": 43,
   "metadata": {},
   "outputs": [],
   "source": [
    "# saving scrapped data to csv file\n",
    "\n",
    "data.to_csv('web_crawler_thermocool.csv')"
   ]
  },
  {
   "cell_type": "code",
   "execution_count": null,
   "metadata": {},
   "outputs": [],
   "source": []
  }
 ],
 "metadata": {
  "kernelspec": {
   "display_name": "Python 3",
   "language": "python",
   "name": "python3"
  },
  "language_info": {
   "codemirror_mode": {
    "name": "ipython",
    "version": 3
   },
   "file_extension": ".py",
   "mimetype": "text/x-python",
   "name": "python",
   "nbconvert_exporter": "python",
   "pygments_lexer": "ipython3",
   "version": "3.7.6"
  }
 },
 "nbformat": 4,
 "nbformat_minor": 4
}
