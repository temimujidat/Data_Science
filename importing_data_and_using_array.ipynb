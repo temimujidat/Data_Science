{
 "cells": [
  {
   "cell_type": "code",
   "execution_count": 1,
   "metadata": {},
   "outputs": [],
   "source": [
    "#import pandas\n",
    "import pandas as pd"
   ]
  },
  {
   "cell_type": "code",
   "execution_count": 4,
   "metadata": {},
   "outputs": [],
   "source": [
    "#importing csv file\n",
    "measurements= pd.read_csv('flower_measurements.csv')"
   ]
  },
  {
   "cell_type": "code",
   "execution_count": 6,
   "metadata": {},
   "outputs": [
    {
     "name": "stdout",
     "output_type": "stream",
     "text": [
      "          FLOWERS  AVERAGE WIDTH (cm)  AVERAGE HEIGHT (cm)\n",
      "0            Rose                13.5                  6.4\n",
      "1            Iris                10.0                  5.2\n",
      "2            Lily                12.7                  9.0\n",
      "3          Violet                 9.5                  6.0\n",
      "4         Camelia                12.0                  5.0\n",
      "5        Bluebell                16.0                  9.0\n",
      "6           Tulip                15.0                  7.0\n",
      "7          Orchid                22.0                  9.6\n",
      "8       Carnation                14.0                  7.0\n",
      "9           Pansy                19.0                  5.4\n",
      "10  Forget_me_not                13.0                  7.0\n",
      "11          Poppy                17.0                 10.0\n"
     ]
    }
   ],
   "source": [
    "#print csv file\n",
    "print (measurements)"
   ]
  },
  {
   "cell_type": "code",
   "execution_count": 7,
   "metadata": {},
   "outputs": [
    {
     "name": "stdout",
     "output_type": "stream",
     "text": [
      "   FLOWERS  AVERAGE WIDTH (cm)  AVERAGE HEIGHT (cm)\n",
      "0     Rose                13.5                  6.4\n",
      "1     Iris                10.0                  5.2\n",
      "2     Lily                12.7                  9.0\n",
      "3   Violet                 9.5                  6.0\n",
      "4  Camelia                12.0                  5.0\n"
     ]
    }
   ],
   "source": [
    "#print first 5 rows\n",
    "print (measurements.head(5))"
   ]
  },
  {
   "cell_type": "code",
   "execution_count": 8,
   "metadata": {},
   "outputs": [
    {
     "name": "stdout",
     "output_type": "stream",
     "text": [
      "FLOWERS                 object\n",
      "AVERAGE WIDTH (cm)     float64\n",
      "AVERAGE HEIGHT (cm)    float64\n",
      "dtype: object\n"
     ]
    }
   ],
   "source": [
    "#print out the data types\n",
    "print (measurements.dtypes)"
   ]
  },
  {
   "cell_type": "code",
   "execution_count": 10,
   "metadata": {},
   "outputs": [
    {
     "name": "stdout",
     "output_type": "stream",
     "text": [
      "Index(['FLOWERS', 'AVERAGE WIDTH (cm)', 'AVERAGE HEIGHT (cm)'], dtype='object')\n"
     ]
    }
   ],
   "source": [
    "#print out the data column\n",
    "print(measurements.columns)"
   ]
  },
  {
   "cell_type": "code",
   "execution_count": 11,
   "metadata": {},
   "outputs": [],
   "source": [
    "import numpy as np"
   ]
  },
  {
   "cell_type": "code",
   "execution_count": 12,
   "metadata": {},
   "outputs": [
    {
     "data": {
      "text/html": [
       "<div>\n",
       "<style scoped>\n",
       "    .dataframe tbody tr th:only-of-type {\n",
       "        vertical-align: middle;\n",
       "    }\n",
       "\n",
       "    .dataframe tbody tr th {\n",
       "        vertical-align: top;\n",
       "    }\n",
       "\n",
       "    .dataframe thead th {\n",
       "        text-align: right;\n",
       "    }\n",
       "</style>\n",
       "<table border=\"1\" class=\"dataframe\">\n",
       "  <thead>\n",
       "    <tr style=\"text-align: right;\">\n",
       "      <th></th>\n",
       "      <th>FLOWERS</th>\n",
       "      <th>AVERAGE WIDTH (cm)</th>\n",
       "      <th>AVERAGE HEIGHT (cm)</th>\n",
       "    </tr>\n",
       "  </thead>\n",
       "  <tbody>\n",
       "    <tr>\n",
       "      <th>0</th>\n",
       "      <td>Rose</td>\n",
       "      <td>13.5</td>\n",
       "      <td>6.4</td>\n",
       "    </tr>\n",
       "    <tr>\n",
       "      <th>1</th>\n",
       "      <td>Iris</td>\n",
       "      <td>10.0</td>\n",
       "      <td>5.2</td>\n",
       "    </tr>\n",
       "  </tbody>\n",
       "</table>\n",
       "</div>"
      ],
      "text/plain": [
       "  FLOWERS  AVERAGE WIDTH (cm)  AVERAGE HEIGHT (cm)\n",
       "0    Rose                13.5                  6.4\n",
       "1    Iris                10.0                  5.2"
      ]
     },
     "execution_count": 12,
     "metadata": {},
     "output_type": "execute_result"
    }
   ],
   "source": [
    "#prints first two rows using array\n",
    "measurements[0:2]"
   ]
  },
  {
   "cell_type": "code",
   "execution_count": 47,
   "metadata": {},
   "outputs": [
    {
     "name": "stdout",
     "output_type": "stream",
     "text": [
      "0              Rose\n",
      "1              Iris\n",
      "2              Lily\n",
      "3            Violet\n",
      "4           Camelia\n",
      "5          Bluebell\n",
      "6             Tulip\n",
      "7            Orchid\n",
      "8         Carnation\n",
      "9             Pansy\n",
      "10    Forget_me_not\n",
      "11            Poppy\n",
      "Name: FLOWERS, dtype: object\n"
     ]
    }
   ],
   "source": [
    "#prints only the flower column using array\n",
    "print (measurements['FLOWERS'])"
   ]
  },
  {
   "cell_type": "code",
   "execution_count": 35,
   "metadata": {},
   "outputs": [
    {
     "name": "stdout",
     "output_type": "stream",
     "text": [
      "0      Rose\n",
      "1      Iris\n",
      "2      Lily\n",
      "3    Violet\n",
      "Name: FLOWERS, dtype: object\n"
     ]
    }
   ],
   "source": [
    "print (measurements['FLOWERS'][0:4])"
   ]
  },
  {
   "cell_type": "code",
   "execution_count": 36,
   "metadata": {},
   "outputs": [],
   "source": [
    "#giving details about the data set\n",
    "details = measurements.describe()"
   ]
  },
  {
   "cell_type": "code",
   "execution_count": 37,
   "metadata": {},
   "outputs": [
    {
     "name": "stdout",
     "output_type": "stream",
     "text": [
      "       AVERAGE WIDTH (cm)  AVERAGE HEIGHT (cm)\n",
      "count           12.000000            12.000000\n",
      "mean            14.475000             7.216667\n",
      "std              3.611629             1.767295\n",
      "min              9.500000             5.000000\n",
      "25%             12.525000             5.850000\n",
      "50%             13.750000             7.000000\n",
      "75%             16.250000             9.000000\n",
      "max             22.000000            10.000000\n"
     ]
    }
   ],
   "source": [
    "print(details)"
   ]
  },
  {
   "cell_type": "code",
   "execution_count": 41,
   "metadata": {},
   "outputs": [],
   "source": [
    "#convert dataset details to excel\n",
    "details.to_excel('flower_details.xlsx')"
   ]
  },
  {
   "cell_type": "code",
   "execution_count": 42,
   "metadata": {},
   "outputs": [],
   "source": [
    "#convert dataset details to csv\n",
    "details.to_csv('flower_details.csv')"
   ]
  },
  {
   "cell_type": "code",
   "execution_count": null,
   "metadata": {},
   "outputs": [],
   "source": []
  }
 ],
 "metadata": {
  "kernelspec": {
   "display_name": "Python 3",
   "language": "python",
   "name": "python3"
  },
  "language_info": {
   "codemirror_mode": {
    "name": "ipython",
    "version": 3
   },
   "file_extension": ".py",
   "mimetype": "text/x-python",
   "name": "python",
   "nbconvert_exporter": "python",
   "pygments_lexer": "ipython3",
   "version": "3.7.6"
  }
 },
 "nbformat": 4,
 "nbformat_minor": 4
}
