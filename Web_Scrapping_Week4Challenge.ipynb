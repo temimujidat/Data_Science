{
 "cells": [
  {
   "cell_type": "code",
   "execution_count": 249,
   "metadata": {},
   "outputs": [],
   "source": [
    "# importing required libraries\n",
    "\n",
    "import pandas as pd\n",
    "from bs4 import BeautifulSoup\n",
    "import requests\n",
    "import time"
   ]
  },
  {
   "cell_type": "code",
   "execution_count": 250,
   "metadata": {},
   "outputs": [],
   "source": [
    "# target URL to scrap\n",
    "\n",
    "base_url = 'https://nigeriapropertycentre.com/for-rent'"
   ]
  },
  {
   "cell_type": "code",
   "execution_count": 252,
   "metadata": {},
   "outputs": [],
   "source": [
    "# send request to download the data\n",
    "\n",
    "req = requests.get (base_url, headers=headers)"
   ]
  },
  {
   "cell_type": "code",
   "execution_count": 251,
   "metadata": {},
   "outputs": [],
   "source": [
    "headers = {'User-Agent': 'Mozilla/5.0 (Windows NT 6.1) AppleWebKit/537.36 (KHTML, like Gecko) Chrome/75.0.3770.100 Safari/537.36'}"
   ]
  },
  {
   "cell_type": "code",
   "execution_count": 253,
   "metadata": {},
   "outputs": [
    {
     "data": {
      "text/plain": [
       "200"
      ]
     },
     "execution_count": 253,
     "metadata": {},
     "output_type": "execute_result"
    }
   ],
   "source": [
    "req.status_code"
   ]
  },
  {
   "cell_type": "code",
   "execution_count": 254,
   "metadata": {},
   "outputs": [
    {
     "data": {
      "text/plain": [
       "'!DOCTYPE html>\\n<html lang=\"en\">\\n<head>\\n<meta charset=\"utf-8\">\\n<meta name=\"apple-itunes-app\" content=\"app-id=1125813120\">\\n<meta name=\"google-play-app\" content=\"app-id=com.nigeriapropertycentre.app\">\\n<'"
      ]
     },
     "execution_count": 254,
     "metadata": {},
     "output_type": "execute_result"
    }
   ],
   "source": [
    "req.text[1:200]"
   ]
  },
  {
   "cell_type": "code",
   "execution_count": 255,
   "metadata": {},
   "outputs": [],
   "source": [
    "# parse the downloaded data\n",
    "\n",
    "soup = BeautifulSoup(req.text,'html.parser')"
   ]
  },
  {
   "cell_type": "code",
   "execution_count": 256,
   "metadata": {},
   "outputs": [
    {
     "data": {
      "text/plain": [
       "\"\\n\\n\\n\\n\\n\\n\\n\\n\\n\\n\\n\\n\\n\\n\\n\\n\\n            Bugsnag.start({\\n                apiKey: '2f9be6cbadc429acb199ec901c44bee7',\\n                releaseStage: 'production'\\n            })\\n        \\n\\n        var app_short_name\""
      ]
     },
     "execution_count": 256,
     "metadata": {},
     "output_type": "execute_result"
    }
   ],
   "source": [
    "soup.text[1:200]"
   ]
  },
  {
   "cell_type": "code",
   "execution_count": 296,
   "metadata": {},
   "outputs": [],
   "source": [
    "# find all title with specified class name\n",
    "\n",
    "titles = soup.select('.content-title')"
   ]
  },
  {
   "cell_type": "code",
   "execution_count": 297,
   "metadata": {},
   "outputs": [
    {
     "data": {
      "text/plain": [
       "21"
      ]
     },
     "execution_count": 297,
     "metadata": {},
     "output_type": "execute_result"
    }
   ],
   "source": [
    "len(titles)"
   ]
  },
  {
   "cell_type": "code",
   "execution_count": 298,
   "metadata": {},
   "outputs": [],
   "source": [
    "# fixing all the title data into a list\n",
    "\n",
    "all_titles = []\n",
    "\n",
    "for title in titles:\n",
    "    all_titles.append(title.text[10:])"
   ]
  },
  {
   "cell_type": "code",
   "execution_count": 299,
   "metadata": {},
   "outputs": [],
   "source": [
    "# fixing all the bedroom data into a list\n",
    "\n",
    "all_bedrooms = []\n",
    "\n",
    "for bedroom in titles:\n",
    "    all_bedrooms.append(bedroom.text[:2])"
   ]
  },
  {
   "cell_type": "code",
   "execution_count": 300,
   "metadata": {},
   "outputs": [],
   "source": [
    "# find all addresses with specified class name\n",
    "\n",
    "addresses = soup.select('address')"
   ]
  },
  {
   "cell_type": "code",
   "execution_count": 301,
   "metadata": {},
   "outputs": [
    {
     "data": {
      "text/plain": [
       "21"
      ]
     },
     "execution_count": 301,
     "metadata": {},
     "output_type": "execute_result"
    }
   ],
   "source": [
    "len(addresses)"
   ]
  },
  {
   "cell_type": "code",
   "execution_count": 302,
   "metadata": {},
   "outputs": [],
   "source": [
    "# fixing all the addresses data into a list\n",
    "\n",
    "all_addresses = []\n",
    "\n",
    "for address in addresses:\n",
    "    all_addresses.append(address.text[0:15])\n",
    "    "
   ]
  },
  {
   "cell_type": "code",
   "execution_count": 303,
   "metadata": {},
   "outputs": [],
   "source": [
    "# find all descriptions with specified class name\n",
    "\n",
    "descriptions = soup.select('.description > p')"
   ]
  },
  {
   "cell_type": "code",
   "execution_count": 304,
   "metadata": {},
   "outputs": [
    {
     "data": {
      "text/plain": [
       "21"
      ]
     },
     "execution_count": 304,
     "metadata": {},
     "output_type": "execute_result"
    }
   ],
   "source": [
    "len(descriptions)"
   ]
  },
  {
   "cell_type": "code",
   "execution_count": 305,
   "metadata": {},
   "outputs": [],
   "source": [
    "# fixing all the descriptions data into a list\n",
    "\n",
    "all_descriptions = []\n",
    "\n",
    "for description in descriptions:\n",
    "    all_descriptions.append(description.getText())\n"
   ]
  },
  {
   "cell_type": "code",
   "execution_count": 306,
   "metadata": {},
   "outputs": [],
   "source": [
    "# find all prices with specified class name\n",
    "\n",
    "prices = soup.select('.pull-sm-left > .price')"
   ]
  },
  {
   "cell_type": "code",
   "execution_count": 307,
   "metadata": {},
   "outputs": [
    {
     "data": {
      "text/plain": [
       "42"
      ]
     },
     "execution_count": 307,
     "metadata": {},
     "output_type": "execute_result"
    }
   ],
   "source": [
    "len(prices)"
   ]
  },
  {
   "cell_type": "code",
   "execution_count": 320,
   "metadata": {},
   "outputs": [],
   "source": [
    "# fixing all the prices data into a list\n",
    "\n",
    "all_prices = []\n",
    "\n",
    "for i,price in enumerate(prices):\n",
    "    if i % 2 != 0:\n",
    "        all_prices.append(price.getText())\n",
    "    "
   ]
  },
  {
   "cell_type": "code",
   "execution_count": 309,
   "metadata": {},
   "outputs": [],
   "source": [
    "# find all facilities with specified class name\n",
    "\n",
    "facilities = soup.select('.wp-block-footer >.aux-info')"
   ]
  },
  {
   "cell_type": "code",
   "execution_count": 321,
   "metadata": {},
   "outputs": [
    {
     "data": {
      "text/plain": [
       "21"
      ]
     },
     "execution_count": 321,
     "metadata": {},
     "output_type": "execute_result"
    }
   ],
   "source": [
    "len(facilities)"
   ]
  },
  {
   "cell_type": "code",
   "execution_count": 311,
   "metadata": {},
   "outputs": [],
   "source": [
    "# fixing all the facilities data into a list\n",
    "\n",
    "all_facilities = []\n",
    "\n",
    "for facility in facilities:\n",
    "    all_facilities.append(facility.getText())"
   ]
  },
  {
   "cell_type": "code",
   "execution_count": 322,
   "metadata": {},
   "outputs": [],
   "source": [
    "# fixing all the bathrooms data into a list\n",
    "\n",
    "all_toilets = []\n",
    "\n",
    "for toilet in facilities:\n",
    "    all_toilets.append(toilet.text[21:-29])"
   ]
  },
  {
   "cell_type": "code",
   "execution_count": 323,
   "metadata": {},
   "outputs": [],
   "source": [
    "# fixing all the bathrooms data into a list\n",
    "\n",
    "all_parking = []\n",
    "\n",
    "for parking in facilities:\n",
    "    all_parking.append(parking.text[30:-19])"
   ]
  },
  {
   "cell_type": "code",
   "execution_count": 324,
   "metadata": {},
   "outputs": [],
   "source": [
    "#creating a function to be able to return all list generated\n",
    "\n",
    "def all_data(url):\n",
    "    req = requests.get (base_url, headers=headers)\n",
    "    soup = BeautifulSoup(req.text,'html.parser')\n",
    "    \n",
    "    titles = soup.select('.content-title')\n",
    "    all_titles = []\n",
    "    for title in titles:\n",
    "        all_titles.append(title.text[10:])    \n",
    "    \n",
    "    addresses = soup.select('address')\n",
    "    all_addresses = []\n",
    "    for address in addresses:\n",
    "        all_addresses.append(address.text[0:15])\n",
    "    \n",
    "    descriptions = soup.select('.description > p')\n",
    "    all_descriptions = []\n",
    "    for description in descriptions:\n",
    "        all_descriptions.append(description.getText())    \n",
    "    \n",
    "    facilities = soup.select('.wp-block-footer >.aux-info')\n",
    "    all_facilities = []\n",
    "    for facility in facilities:\n",
    "        all_facilities.append(facility.getText())\n",
    "    \n",
    "    titles = soup.select('.content-title')\n",
    "    all_bedrooms = []\n",
    "    for bedroom in titles:\n",
    "        all_bedrooms.append(bedroom.text[:2])\n",
    "    \n",
    "    facilities = soup.select('.wp-block-footer >.aux-info')\n",
    "    all_toilets = []\n",
    "    for toilet in facilities:\n",
    "        all_toilets.append(toilet.text[21:-29])\n",
    "    \n",
    "    facilities = soup.select('.wp-block-footer >.aux-info')\n",
    "    all_parking = []\n",
    "    for parking in facilities:\n",
    "        all_parking.append(parking.text[30:-19])\n",
    "    \n",
    "    prices = soup.select('.pull-sm-left > .price')\n",
    "    all_prices = []\n",
    "    for i,price in enumerate(prices):\n",
    "        if i % 2 != 0:\n",
    "            all_prices.append(price.getText())\n",
    "            \n",
    "    return (all_titles, all_addresses, all_descriptions, all_facilities, all_bedrooms, all_toilets, all_parking, all_prices)   "
   ]
  },
  {
   "cell_type": "code",
   "execution_count": 325,
   "metadata": {},
   "outputs": [],
   "source": [
    "#this code helps to crawl all the pages on the website\n",
    "\n",
    "urls = [base_url]\n",
    "for i in range(1,50):\n",
    "    url = base_url + '?page=' + str(i)\n",
    "    urls.append(url)"
   ]
  },
  {
   "cell_type": "code",
   "execution_count": 326,
   "metadata": {},
   "outputs": [
    {
     "data": {
      "text/plain": [
       "'https://nigeriapropertycentre.com/for-rent?page=49'"
      ]
     },
     "execution_count": 326,
     "metadata": {},
     "output_type": "execute_result"
    }
   ],
   "source": [
    "urls[49]"
   ]
  },
  {
   "cell_type": "code",
   "execution_count": 327,
   "metadata": {},
   "outputs": [],
   "source": [
    "master_titles = []\n",
    "master_addresses = []\n",
    "master_bedrooms = []\n",
    "master_toilets = []\n",
    "master_parking = []\n",
    "master_prices = []\n",
    "\n",
    "for url in urls:\n",
    "    all_titles, all_addresses, all_descriptions, all_facilities, all_bedrooms, all_toilets, all_parking, all_prices = all_data(url)\n",
    "    \n",
    "    master_titles += all_titles\n",
    "    master_addresses += all_addresses\n",
    "    master_bedrooms += all_bedrooms\n",
    "    master_toilets += all_toilets\n",
    "    master_parking += all_parking\n",
    "    master_prices += all_prices\n",
    "    \n",
    "    time.sleep(20)"
   ]
  },
  {
   "cell_type": "code",
   "execution_count": 328,
   "metadata": {},
   "outputs": [],
   "source": [
    "# create a data frame from the list of dictionaries\n",
    "\n",
    "properties = pd.DataFrame ({\"property\": master_titles,\n",
    "                            \"address\": master_addresses,\n",
    "                            \"bedroom\": master_bedrooms,\n",
    "                            \"toilet\": master_toilets,\n",
    "                            \"parking_space\": master_parking,\n",
    "                            \"prices\": master_prices\n",
    "                           })"
   ]
  },
  {
   "cell_type": "code",
   "execution_count": 329,
   "metadata": {},
   "outputs": [
    {
     "data": {
      "text/plain": [
       "1050"
      ]
     },
     "execution_count": 329,
     "metadata": {},
     "output_type": "execute_result"
    }
   ],
   "source": [
    "len(master_toilets)"
   ]
  },
  {
   "cell_type": "code",
   "execution_count": 330,
   "metadata": {},
   "outputs": [],
   "source": [
    "properties.to_csv(\"property_for_rent.csv\")"
   ]
  },
  {
   "cell_type": "code",
   "execution_count": 331,
   "metadata": {},
   "outputs": [],
   "source": [
    "house_for_rent = pd.read_csv('property_for_rent.csv')"
   ]
  },
  {
   "cell_type": "code",
   "execution_count": 332,
   "metadata": {},
   "outputs": [
    {
     "data": {
      "text/html": [
       "<div>\n",
       "<style scoped>\n",
       "    .dataframe tbody tr th:only-of-type {\n",
       "        vertical-align: middle;\n",
       "    }\n",
       "\n",
       "    .dataframe tbody tr th {\n",
       "        vertical-align: top;\n",
       "    }\n",
       "\n",
       "    .dataframe thead th {\n",
       "        text-align: right;\n",
       "    }\n",
       "</style>\n",
       "<table border=\"1\" class=\"dataframe\">\n",
       "  <thead>\n",
       "    <tr style=\"text-align: right;\">\n",
       "      <th></th>\n",
       "      <th>Unnamed: 0</th>\n",
       "      <th>property</th>\n",
       "      <th>address</th>\n",
       "      <th>bedroom</th>\n",
       "      <th>toilet</th>\n",
       "      <th>parking_space</th>\n",
       "      <th>prices</th>\n",
       "    </tr>\n",
       "  </thead>\n",
       "  <tbody>\n",
       "    <tr>\n",
       "      <th>0</th>\n",
       "      <td>0</td>\n",
       "      <td>semi-detached duplex for rent</td>\n",
       "      <td>Ikota, Lekki,</td>\n",
       "      <td>4</td>\n",
       "      <td>5</td>\n",
       "      <td>3</td>\n",
       "      <td>3,500,000</td>\n",
       "    </tr>\n",
       "    <tr>\n",
       "      <th>1</th>\n",
       "      <td>1</td>\n",
       "      <td>flat for rent</td>\n",
       "      <td>Divine Homes</td>\n",
       "      <td>3</td>\n",
       "      <td>4</td>\n",
       "      <td>2</td>\n",
       "      <td>1,500,000</td>\n",
       "    </tr>\n",
       "    <tr>\n",
       "      <th>2</th>\n",
       "      <td>2</td>\n",
       "      <td>terraced duplex for rent</td>\n",
       "      <td>Maitama Distr</td>\n",
       "      <td>4</td>\n",
       "      <td>5</td>\n",
       "      <td>3</td>\n",
       "      <td>10,000,000</td>\n",
       "    </tr>\n",
       "    <tr>\n",
       "      <th>3</th>\n",
       "      <td>3</td>\n",
       "      <td>flat for rent</td>\n",
       "      <td>Off Palace Ro</td>\n",
       "      <td>3</td>\n",
       "      <td>4</td>\n",
       "      <td>2</td>\n",
       "      <td>4,500,000</td>\n",
       "    </tr>\n",
       "    <tr>\n",
       "      <th>4</th>\n",
       "      <td>4</td>\n",
       "      <td>terraced duplex for rent</td>\n",
       "      <td>Osborne Fores</td>\n",
       "      <td>4</td>\n",
       "      <td>NaN</td>\n",
       "      <td>NaN</td>\n",
       "      <td>10,000,000</td>\n",
       "    </tr>\n",
       "  </tbody>\n",
       "</table>\n",
       "</div>"
      ],
      "text/plain": [
       "   Unnamed: 0                       property          address bedroom toilet  \\\n",
       "0           0  semi-detached duplex for rent    Ikota, Lekki,      4       5   \n",
       "1           1                  flat for rent    Divine Homes       3       4   \n",
       "2           2       terraced duplex for rent    Maitama Distr      4       5   \n",
       "3           3                  flat for rent    Off Palace Ro      3       4   \n",
       "4           4       terraced duplex for rent    Osborne Fores      4     NaN   \n",
       "\n",
       "  parking_space      prices  \n",
       "0            3    3,500,000  \n",
       "1            2    1,500,000  \n",
       "2            3   10,000,000  \n",
       "3            2    4,500,000  \n",
       "4           NaN  10,000,000  "
      ]
     },
     "execution_count": 332,
     "metadata": {},
     "output_type": "execute_result"
    }
   ],
   "source": [
    "house_for_rent.head()"
   ]
  },
  {
   "cell_type": "code",
   "execution_count": null,
   "metadata": {},
   "outputs": [],
   "source": []
  }
 ],
 "metadata": {
  "kernelspec": {
   "display_name": "Python 3",
   "language": "python",
   "name": "python3"
  },
  "language_info": {
   "codemirror_mode": {
    "name": "ipython",
    "version": 3
   },
   "file_extension": ".py",
   "mimetype": "text/x-python",
   "name": "python",
   "nbconvert_exporter": "python",
   "pygments_lexer": "ipython3",
   "version": "3.7.6"
  }
 },
 "nbformat": 4,
 "nbformat_minor": 4
}
