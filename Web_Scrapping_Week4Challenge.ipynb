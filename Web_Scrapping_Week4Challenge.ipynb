{
 "cells": [
  {
   "cell_type": "code",
   "execution_count": 83,
   "metadata": {},
   "outputs": [],
   "source": [
    "import pandas as pd\n",
    "from bs4 import BeautifulSoup\n",
    "import requests\n",
    "import time"
   ]
  },
  {
   "cell_type": "code",
   "execution_count": 5,
   "metadata": {},
   "outputs": [],
   "source": [
    "base_url = 'https://nigeriapropertycentre.com/for-rent'"
   ]
  },
  {
   "cell_type": "code",
   "execution_count": 8,
   "metadata": {},
   "outputs": [],
   "source": [
    "req = requests.get (base_url, headers=headers)"
   ]
  },
  {
   "cell_type": "code",
   "execution_count": 7,
   "metadata": {},
   "outputs": [],
   "source": [
    "headers = {'User-Agent': 'Mozilla/5.0 (Windows NT 6.1) AppleWebKit/537.36 (KHTML, like Gecko) Chrome/75.0.3770.100 Safari/537.36'}"
   ]
  },
  {
   "cell_type": "code",
   "execution_count": 9,
   "metadata": {},
   "outputs": [
    {
     "data": {
      "text/plain": [
       "200"
      ]
     },
     "execution_count": 9,
     "metadata": {},
     "output_type": "execute_result"
    }
   ],
   "source": [
    "req.status_code"
   ]
  },
  {
   "cell_type": "code",
   "execution_count": 10,
   "metadata": {},
   "outputs": [
    {
     "data": {
      "text/plain": [
       "'!DOCTYPE html>\\n<html lang=\"en\">\\n<head>\\n<meta charset=\"utf-8\">\\n<meta name=\"apple-itunes-app\" content=\"app-id=1125813120\">\\n<meta name=\"google-play-app\" content=\"app-id=com.nigeriapropertycentre.app\">\\n<'"
      ]
     },
     "execution_count": 10,
     "metadata": {},
     "output_type": "execute_result"
    }
   ],
   "source": [
    "req.text[1:200]"
   ]
  },
  {
   "cell_type": "code",
   "execution_count": 11,
   "metadata": {},
   "outputs": [],
   "source": [
    "soup = BeautifulSoup(req.text,'html.parser')"
   ]
  },
  {
   "cell_type": "code",
   "execution_count": 12,
   "metadata": {},
   "outputs": [
    {
     "data": {
      "text/plain": [
       "\"\\n\\n\\n\\n\\n\\n\\n\\n\\n\\n\\n\\n\\n\\n\\n\\n\\n            Bugsnag.start({\\n                apiKey: '2f9be6cbadc429acb199ec901c44bee7',\\n                releaseStage: 'production'\\n            })\\n        \\n\\n        var app_short_name\""
      ]
     },
     "execution_count": 12,
     "metadata": {},
     "output_type": "execute_result"
    }
   ],
   "source": [
    "soup.text[1:200]"
   ]
  },
  {
   "cell_type": "code",
   "execution_count": 13,
   "metadata": {},
   "outputs": [],
   "source": [
    "titles = soup.select('.content-title')"
   ]
  },
  {
   "cell_type": "code",
   "execution_count": 14,
   "metadata": {},
   "outputs": [
    {
     "data": {
      "text/plain": [
       "21"
      ]
     },
     "execution_count": 14,
     "metadata": {},
     "output_type": "execute_result"
    }
   ],
   "source": [
    "len(titles)"
   ]
  },
  {
   "cell_type": "code",
   "execution_count": 73,
   "metadata": {},
   "outputs": [],
   "source": [
    "all_titles = []\n",
    "\n",
    "for title in titles:\n",
    "    all_titles.append(title.getText())"
   ]
  },
  {
   "cell_type": "code",
   "execution_count": 16,
   "metadata": {},
   "outputs": [],
   "source": [
    "addresses = soup.select('address')"
   ]
  },
  {
   "cell_type": "code",
   "execution_count": 17,
   "metadata": {},
   "outputs": [
    {
     "data": {
      "text/plain": [
       "21"
      ]
     },
     "execution_count": 17,
     "metadata": {},
     "output_type": "execute_result"
    }
   ],
   "source": [
    "len(addresses)"
   ]
  },
  {
   "cell_type": "code",
   "execution_count": 74,
   "metadata": {},
   "outputs": [],
   "source": [
    "all_addresses = []\n",
    "\n",
    "for address in addresses:\n",
    "    all_addresses.append(address.getText())"
   ]
  },
  {
   "cell_type": "code",
   "execution_count": 94,
   "metadata": {},
   "outputs": [],
   "source": [
    "descriptions = soup.select('.description > p')"
   ]
  },
  {
   "cell_type": "code",
   "execution_count": 95,
   "metadata": {},
   "outputs": [
    {
     "data": {
      "text/plain": [
       "21"
      ]
     },
     "execution_count": 95,
     "metadata": {},
     "output_type": "execute_result"
    }
   ],
   "source": [
    "len(descriptions)"
   ]
  },
  {
   "cell_type": "code",
   "execution_count": 97,
   "metadata": {},
   "outputs": [],
   "source": [
    "all_descriptions = []\n",
    "\n",
    "for description in descriptions:\n",
    "    all_descriptions.append(description.getText())\n"
   ]
  },
  {
   "cell_type": "code",
   "execution_count": 98,
   "metadata": {},
   "outputs": [],
   "source": [
    "prices = soup.select('.pull-sm-left > .price')"
   ]
  },
  {
   "cell_type": "code",
   "execution_count": 99,
   "metadata": {},
   "outputs": [
    {
     "data": {
      "text/plain": [
       "42"
      ]
     },
     "execution_count": 99,
     "metadata": {},
     "output_type": "execute_result"
    }
   ],
   "source": [
    "len(prices)"
   ]
  },
  {
   "cell_type": "code",
   "execution_count": 100,
   "metadata": {},
   "outputs": [],
   "source": [
    "all_prices = []\n",
    "\n",
    "for i,price in enumerate(prices):\n",
    "    if i % 2 != 0:\n",
    "        all_prices.append('N' + price.getText())\n",
    "    "
   ]
  },
  {
   "cell_type": "code",
   "execution_count": 69,
   "metadata": {},
   "outputs": [],
   "source": [
    "facilities = soup.select('.wp-block-footer >.aux-info')"
   ]
  },
  {
   "cell_type": "code",
   "execution_count": 70,
   "metadata": {},
   "outputs": [
    {
     "data": {
      "text/plain": [
       "21"
      ]
     },
     "execution_count": 70,
     "metadata": {},
     "output_type": "execute_result"
    }
   ],
   "source": [
    "len(facilities)"
   ]
  },
  {
   "cell_type": "code",
   "execution_count": 77,
   "metadata": {},
   "outputs": [],
   "source": [
    "all_facilities = []\n",
    "\n",
    "for facility in facilities:\n",
    "    all_facilities.append(facility.getText())"
   ]
  },
  {
   "cell_type": "code",
   "execution_count": 101,
   "metadata": {},
   "outputs": [],
   "source": [
    "def all_data(url):\n",
    "    req = requests.get (base_url, headers=headers)\n",
    "    soup = BeautifulSoup(req.text,'html.parser')\n",
    "    \n",
    "    titles = soup.select('.content-title')\n",
    "    all_titles = []\n",
    "    for title in titles:\n",
    "        all_titles.append(title.getText())\n",
    "    \n",
    "    addresses = soup.select('address')\n",
    "    all_addresses = []\n",
    "    for address in addresses:\n",
    "        all_addresses.append(address.getText())\n",
    "    \n",
    "    facilities = soup.select('.wp-block-footer >.aux-info')\n",
    "    all_facilities = []\n",
    "    for facility in facilities:\n",
    "        all_facilities.append(facility.getText())\n",
    "        \n",
    "    descriptions = soup.select('.description > p')\n",
    "    all_descriptions = []\n",
    "    for description in descriptions:\n",
    "        all_description.append(description.getText())\n",
    "    \n",
    "    prices = soup.select('.pull-sm-left > .price')\n",
    "    all_prices = []\n",
    "    for i,price in enumerate(prices):\n",
    "        if i % 2 != 0:\n",
    "            all_prices.append('N' + price.getText())\n",
    "            \n",
    "    return all_titles, all_addresses, all_facilities, all_descriptions, all_prices"
   ]
  },
  {
   "cell_type": "code",
   "execution_count": 102,
   "metadata": {},
   "outputs": [],
   "source": [
    "urls = [base_url]\n",
    "for i in range(1,40):\n",
    "    url = base_url + '?page=' + str(i)\n",
    "    urls.append(url)"
   ]
  },
  {
   "cell_type": "code",
   "execution_count": 81,
   "metadata": {},
   "outputs": [
    {
     "data": {
      "text/plain": [
       "'https://nigeriapropertycentre.com/for-rent?page=5'"
      ]
     },
     "execution_count": 81,
     "metadata": {},
     "output_type": "execute_result"
    }
   ],
   "source": [
    "urls[5]"
   ]
  },
  {
   "cell_type": "code",
   "execution_count": 103,
   "metadata": {},
   "outputs": [],
   "source": [
    "master_titles = []\n",
    "master_addresses = []\n",
    "master_facilities = []\n",
    "\n",
    "master_prices = []\n",
    "for url in urls:\n",
    "    all_titles, all_addresses, all_facilities, all_descriptions, all_prices = all_data(url)\n",
    "    master_titles += all_titles\n",
    "    master_addresses += all_addresses\n",
    "    master_facilities += all_facilities\n",
    "    master_prices += all_prices\n",
    "    time.sleep(20)"
   ]
  },
  {
   "cell_type": "code",
   "execution_count": 106,
   "metadata": {},
   "outputs": [
    {
     "data": {
      "text/plain": [
       "840"
      ]
     },
     "execution_count": 106,
     "metadata": {},
     "output_type": "execute_result"
    }
   ],
   "source": [
    "len(master_prices)"
   ]
  },
  {
   "cell_type": "code",
   "execution_count": 107,
   "metadata": {},
   "outputs": [],
   "source": [
    "properties = pd.DataFrame ({\"Titles\": master_titles,\n",
    "                            \"Addresses\": master_addresses,\n",
    "                            \"Facilities\": master_facilities,\n",
    "                            \"Prices\": master_prices})"
   ]
  },
  {
   "cell_type": "code",
   "execution_count": 108,
   "metadata": {},
   "outputs": [],
   "source": [
    "properties.to_csv(\"property_rent.csv\")"
   ]
  },
  {
   "cell_type": "code",
   "execution_count": null,
   "metadata": {},
   "outputs": [],
   "source": []
  }
 ],
 "metadata": {
  "kernelspec": {
   "display_name": "Python 3",
   "language": "python",
   "name": "python3"
  },
  "language_info": {
   "codemirror_mode": {
    "name": "ipython",
    "version": 3
   },
   "file_extension": ".py",
   "mimetype": "text/x-python",
   "name": "python",
   "nbconvert_exporter": "python",
   "pygments_lexer": "ipython3",
   "version": "3.7.6"
  }
 },
 "nbformat": 4,
 "nbformat_minor": 4
}
