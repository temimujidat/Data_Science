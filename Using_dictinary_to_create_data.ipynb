{
 "cells": [
  {
   "cell_type": "code",
   "execution_count": 1,
   "metadata": {},
   "outputs": [],
   "source": [
    "import pandas as pd\n",
    "import numpy as np"
   ]
  },
  {
   "cell_type": "code",
   "execution_count": 5,
   "metadata": {},
   "outputs": [],
   "source": [
    "data_set = {\"Names\":['Fola','Bolu','Seun','Kola','Anna','Seyi','Tunde','Lanre','Henry','Mercy'],\n",
    "            \"Gender\":['Male','Male','Female','Male','Female','Male','Male','Female','Male','Female'],\n",
    "            \"Grade\":[78,54,87,62,23,80,44,50,93,40]}\n"
   ]
  },
  {
   "cell_type": "code",
   "execution_count": 7,
   "metadata": {},
   "outputs": [],
   "source": [
    "data = pd.DataFrame(data_set)"
   ]
  },
  {
   "cell_type": "code",
   "execution_count": 8,
   "metadata": {},
   "outputs": [
    {
     "name": "stdout",
     "output_type": "stream",
     "text": [
      "   Names  Gender  Grade\n",
      "0   Fola    Male     78\n",
      "1   Bolu    Male     54\n",
      "2   Seun  Female     87\n",
      "3   Kola    Male     62\n",
      "4   Anna  Female     23\n",
      "5   Seyi    Male     80\n",
      "6  Tunde    Male     44\n",
      "7  Lanre  Female     50\n",
      "8  Henry    Male     93\n",
      "9  Mercy  Female     40\n"
     ]
    }
   ],
   "source": [
    "print(data)"
   ]
  },
  {
   "cell_type": "code",
   "execution_count": 9,
   "metadata": {},
   "outputs": [],
   "source": [
    "information = data.describe()"
   ]
  },
  {
   "cell_type": "code",
   "execution_count": 10,
   "metadata": {},
   "outputs": [
    {
     "name": "stdout",
     "output_type": "stream",
     "text": [
      "          Grade\n",
      "count  10.00000\n",
      "mean   61.10000\n",
      "std    22.83978\n",
      "min    23.00000\n",
      "25%    45.50000\n",
      "50%    58.00000\n",
      "75%    79.50000\n",
      "max    93.00000\n"
     ]
    }
   ],
   "source": [
    "print(information)"
   ]
  },
  {
   "cell_type": "code",
   "execution_count": 12,
   "metadata": {},
   "outputs": [],
   "source": [
    "data.to_csv('data.csv')"
   ]
  },
  {
   "cell_type": "code",
   "execution_count": null,
   "metadata": {},
   "outputs": [],
   "source": []
  }
 ],
 "metadata": {
  "kernelspec": {
   "display_name": "Python 3",
   "language": "python",
   "name": "python3"
  },
  "language_info": {
   "codemirror_mode": {
    "name": "ipython",
    "version": 3
   },
   "file_extension": ".py",
   "mimetype": "text/x-python",
   "name": "python",
   "nbconvert_exporter": "python",
   "pygments_lexer": "ipython3",
   "version": "3.7.6"
  }
 },
 "nbformat": 4,
 "nbformat_minor": 4
}
