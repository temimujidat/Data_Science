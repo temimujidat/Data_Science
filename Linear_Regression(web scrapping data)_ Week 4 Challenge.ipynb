{
 "cells": [
  {
   "cell_type": "code",
   "execution_count": 141,
   "metadata": {},
   "outputs": [],
   "source": [
    "# importing required libraries\n",
    "\n",
    "import pandas as pd\n",
    "import matplotlib.pyplot as plt\n",
    "from sklearn.impute import SimpleImputer\n",
    "import seaborn as sns\n",
    "import numpy as np\n",
    "from sklearn.linear_model import LinearRegression\n",
    "from sklearn.model_selection import train_test_split\n"
   ]
  },
  {
   "cell_type": "code",
   "execution_count": 34,
   "metadata": {},
   "outputs": [],
   "source": [
    "# importing target URL\n",
    "\n",
    "property_details = pd.read_csv('property_for_rent.csv')"
   ]
  },
  {
   "cell_type": "code",
   "execution_count": 3,
   "metadata": {},
   "outputs": [
    {
     "data": {
      "text/html": [
       "<div>\n",
       "<style scoped>\n",
       "    .dataframe tbody tr th:only-of-type {\n",
       "        vertical-align: middle;\n",
       "    }\n",
       "\n",
       "    .dataframe tbody tr th {\n",
       "        vertical-align: top;\n",
       "    }\n",
       "\n",
       "    .dataframe thead th {\n",
       "        text-align: right;\n",
       "    }\n",
       "</style>\n",
       "<table border=\"1\" class=\"dataframe\">\n",
       "  <thead>\n",
       "    <tr style=\"text-align: right;\">\n",
       "      <th></th>\n",
       "      <th>Unnamed: 0</th>\n",
       "      <th>property</th>\n",
       "      <th>address</th>\n",
       "      <th>bedroom</th>\n",
       "      <th>toilet</th>\n",
       "      <th>parking_space</th>\n",
       "      <th>prices</th>\n",
       "    </tr>\n",
       "  </thead>\n",
       "  <tbody>\n",
       "    <tr>\n",
       "      <th>0</th>\n",
       "      <td>0</td>\n",
       "      <td>semi-detached duplex for rent</td>\n",
       "      <td>Ikota, Lekki,</td>\n",
       "      <td>4</td>\n",
       "      <td>5</td>\n",
       "      <td>3</td>\n",
       "      <td>3,500,000</td>\n",
       "    </tr>\n",
       "    <tr>\n",
       "      <th>1</th>\n",
       "      <td>1</td>\n",
       "      <td>flat for rent</td>\n",
       "      <td>Divine Homes</td>\n",
       "      <td>3</td>\n",
       "      <td>4</td>\n",
       "      <td>2</td>\n",
       "      <td>1,500,000</td>\n",
       "    </tr>\n",
       "    <tr>\n",
       "      <th>2</th>\n",
       "      <td>2</td>\n",
       "      <td>terraced duplex for rent</td>\n",
       "      <td>Maitama Distr</td>\n",
       "      <td>4</td>\n",
       "      <td>5</td>\n",
       "      <td>3</td>\n",
       "      <td>10,000,000</td>\n",
       "    </tr>\n",
       "    <tr>\n",
       "      <th>3</th>\n",
       "      <td>3</td>\n",
       "      <td>flat for rent</td>\n",
       "      <td>Off Palace Ro</td>\n",
       "      <td>3</td>\n",
       "      <td>4</td>\n",
       "      <td>2</td>\n",
       "      <td>4,500,000</td>\n",
       "    </tr>\n",
       "    <tr>\n",
       "      <th>4</th>\n",
       "      <td>4</td>\n",
       "      <td>terraced duplex for rent</td>\n",
       "      <td>Osborne Fores</td>\n",
       "      <td>4</td>\n",
       "      <td>NaN</td>\n",
       "      <td>NaN</td>\n",
       "      <td>10,000,000</td>\n",
       "    </tr>\n",
       "  </tbody>\n",
       "</table>\n",
       "</div>"
      ],
      "text/plain": [
       "   Unnamed: 0                       property          address bedroom toilet  \\\n",
       "0           0  semi-detached duplex for rent    Ikota, Lekki,      4       5   \n",
       "1           1                  flat for rent    Divine Homes       3       4   \n",
       "2           2       terraced duplex for rent    Maitama Distr      4       5   \n",
       "3           3                  flat for rent    Off Palace Ro      3       4   \n",
       "4           4       terraced duplex for rent    Osborne Fores      4     NaN   \n",
       "\n",
       "  parking_space      prices  \n",
       "0            3    3,500,000  \n",
       "1            2    1,500,000  \n",
       "2            3   10,000,000  \n",
       "3            2    4,500,000  \n",
       "4           NaN  10,000,000  "
      ]
     },
     "execution_count": 3,
     "metadata": {},
     "output_type": "execute_result"
    }
   ],
   "source": [
    "property_details.head()"
   ]
  },
  {
   "cell_type": "code",
   "execution_count": 36,
   "metadata": {},
   "outputs": [],
   "source": [
    "titles = property_details.columns"
   ]
  },
  {
   "cell_type": "code",
   "execution_count": 37,
   "metadata": {},
   "outputs": [
    {
     "data": {
      "text/plain": [
       "Index(['property', 'address', 'bedroom', 'toilet', 'parking_space', 'prices'], dtype='object')"
      ]
     },
     "execution_count": 37,
     "metadata": {},
     "output_type": "execute_result"
    }
   ],
   "source": [
    "titles"
   ]
  },
  {
   "cell_type": "code",
   "execution_count": 6,
   "metadata": {},
   "outputs": [
    {
     "data": {
      "text/plain": [
       "(1050, 7)"
      ]
     },
     "execution_count": 6,
     "metadata": {},
     "output_type": "execute_result"
    }
   ],
   "source": [
    "property_details.shape"
   ]
  },
  {
   "cell_type": "code",
   "execution_count": 35,
   "metadata": {},
   "outputs": [],
   "source": [
    "#removing the attribute('Unnamed: 0') from the dataset because it is unimportant\n",
    "\n",
    "property_details.drop('Unnamed: 0',axis=1,inplace=True)"
   ]
  },
  {
   "cell_type": "code",
   "execution_count": 10,
   "metadata": {},
   "outputs": [
    {
     "data": {
      "text/plain": [
       "property           0\n",
       "address            0\n",
       "bedroom            0\n",
       "toilet           409\n",
       "parking_space    409\n",
       "prices             0\n",
       "dtype: int64"
      ]
     },
     "execution_count": 10,
     "metadata": {},
     "output_type": "execute_result"
    }
   ],
   "source": [
    "#checking for null values\n",
    "\n",
    "property_details.isnull().sum()"
   ]
  },
  {
   "cell_type": "code",
   "execution_count": 8,
   "metadata": {},
   "outputs": [
    {
     "data": {
      "text/html": [
       "<div>\n",
       "<style scoped>\n",
       "    .dataframe tbody tr th:only-of-type {\n",
       "        vertical-align: middle;\n",
       "    }\n",
       "\n",
       "    .dataframe tbody tr th {\n",
       "        vertical-align: top;\n",
       "    }\n",
       "\n",
       "    .dataframe thead th {\n",
       "        text-align: right;\n",
       "    }\n",
       "</style>\n",
       "<table border=\"1\" class=\"dataframe\">\n",
       "  <thead>\n",
       "    <tr style=\"text-align: right;\">\n",
       "      <th></th>\n",
       "      <th>property</th>\n",
       "      <th>address</th>\n",
       "      <th>bedroom</th>\n",
       "      <th>toilet</th>\n",
       "      <th>parking_space</th>\n",
       "      <th>prices</th>\n",
       "    </tr>\n",
       "  </thead>\n",
       "  <tbody>\n",
       "    <tr>\n",
       "      <th>0</th>\n",
       "      <td>semi-detached duplex for rent</td>\n",
       "      <td>Ikota, Lekki,</td>\n",
       "      <td>4</td>\n",
       "      <td>5</td>\n",
       "      <td>3</td>\n",
       "      <td>3,500,000</td>\n",
       "    </tr>\n",
       "    <tr>\n",
       "      <th>1</th>\n",
       "      <td>flat for rent</td>\n",
       "      <td>Divine Homes</td>\n",
       "      <td>3</td>\n",
       "      <td>4</td>\n",
       "      <td>2</td>\n",
       "      <td>1,500,000</td>\n",
       "    </tr>\n",
       "    <tr>\n",
       "      <th>2</th>\n",
       "      <td>terraced duplex for rent</td>\n",
       "      <td>Maitama Distr</td>\n",
       "      <td>4</td>\n",
       "      <td>5</td>\n",
       "      <td>3</td>\n",
       "      <td>10,000,000</td>\n",
       "    </tr>\n",
       "    <tr>\n",
       "      <th>3</th>\n",
       "      <td>flat for rent</td>\n",
       "      <td>Off Palace Ro</td>\n",
       "      <td>3</td>\n",
       "      <td>4</td>\n",
       "      <td>2</td>\n",
       "      <td>4,500,000</td>\n",
       "    </tr>\n",
       "    <tr>\n",
       "      <th>4</th>\n",
       "      <td>terraced duplex for rent</td>\n",
       "      <td>Osborne Fores</td>\n",
       "      <td>4</td>\n",
       "      <td>NaN</td>\n",
       "      <td>NaN</td>\n",
       "      <td>10,000,000</td>\n",
       "    </tr>\n",
       "    <tr>\n",
       "      <th>...</th>\n",
       "      <td>...</td>\n",
       "      <td>...</td>\n",
       "      <td>...</td>\n",
       "      <td>...</td>\n",
       "      <td>...</td>\n",
       "      <td>...</td>\n",
       "    </tr>\n",
       "    <tr>\n",
       "      <th>1045</th>\n",
       "      <td>mini flat for rent</td>\n",
       "      <td>Off Ada Georg</td>\n",
       "      <td>2</td>\n",
       "      <td>NaN</td>\n",
       "      <td>NaN</td>\n",
       "      <td>600,000</td>\n",
       "    </tr>\n",
       "    <tr>\n",
       "      <th>1046</th>\n",
       "      <td>flat for rent</td>\n",
       "      <td>Banana Island</td>\n",
       "      <td>3</td>\n",
       "      <td>3</td>\n",
       "      <td>2</td>\n",
       "      <td>85,000</td>\n",
       "    </tr>\n",
       "    <tr>\n",
       "      <th>1047</th>\n",
       "      <td>semi-detached duplex for rent</td>\n",
       "      <td>Orchid Road,</td>\n",
       "      <td>4</td>\n",
       "      <td>NaN</td>\n",
       "      <td>NaN</td>\n",
       "      <td>3,500,000</td>\n",
       "    </tr>\n",
       "    <tr>\n",
       "      <th>1048</th>\n",
       "      <td>terraced duplex for rent</td>\n",
       "      <td>Bourdillon, O</td>\n",
       "      <td>4</td>\n",
       "      <td>5</td>\n",
       "      <td>5</td>\n",
       "      <td>15,000,000</td>\n",
       "    </tr>\n",
       "    <tr>\n",
       "      <th>1049</th>\n",
       "      <td>self contained (single rooms) for rent</td>\n",
       "      <td>Brand New Sel</td>\n",
       "      <td>1</td>\n",
       "      <td>NaN</td>\n",
       "      <td>NaN</td>\n",
       "      <td>300,000</td>\n",
       "    </tr>\n",
       "  </tbody>\n",
       "</table>\n",
       "<p>1050 rows × 6 columns</p>\n",
       "</div>"
      ],
      "text/plain": [
       "                                    property          address bedroom toilet  \\\n",
       "0              semi-detached duplex for rent    Ikota, Lekki,      4       5   \n",
       "1                              flat for rent    Divine Homes       3       4   \n",
       "2                   terraced duplex for rent    Maitama Distr      4       5   \n",
       "3                              flat for rent    Off Palace Ro      3       4   \n",
       "4                   terraced duplex for rent    Osborne Fores      4     NaN   \n",
       "...                                      ...              ...     ...    ...   \n",
       "1045                      mini flat for rent    Off Ada Georg      2     NaN   \n",
       "1046                           flat for rent    Banana Island      3       3   \n",
       "1047           semi-detached duplex for rent    Orchid Road,       4     NaN   \n",
       "1048                terraced duplex for rent    Bourdillon, O      4       5   \n",
       "1049  self contained (single rooms) for rent    Brand New Sel      1     NaN   \n",
       "\n",
       "     parking_space      prices  \n",
       "0               3    3,500,000  \n",
       "1               2    1,500,000  \n",
       "2               3   10,000,000  \n",
       "3               2    4,500,000  \n",
       "4              NaN  10,000,000  \n",
       "...            ...         ...  \n",
       "1045           NaN     600,000  \n",
       "1046            2       85,000  \n",
       "1047           NaN   3,500,000  \n",
       "1048            5   15,000,000  \n",
       "1049           NaN     300,000  \n",
       "\n",
       "[1050 rows x 6 columns]"
      ]
     },
     "execution_count": 8,
     "metadata": {},
     "output_type": "execute_result"
    }
   ],
   "source": [
    "property_details"
   ]
  },
  {
   "cell_type": "code",
   "execution_count": 9,
   "metadata": {},
   "outputs": [
    {
     "data": {
      "text/plain": [
       "nan"
      ]
     },
     "execution_count": 9,
     "metadata": {},
     "output_type": "execute_result"
    }
   ],
   "source": [
    "property_details['parking_space'][4]"
   ]
  },
  {
   "cell_type": "code",
   "execution_count": 12,
   "metadata": {},
   "outputs": [
    {
     "data": {
      "text/plain": [
       "array(['3 ', '2 ', nan, 'ets10 ', 'paces600 ', '8 ', '5 ', '10 '],\n",
       "      dtype=object)"
      ]
     },
     "execution_count": 12,
     "metadata": {},
     "output_type": "execute_result"
    }
   ],
   "source": [
    "#checking for unique values in each attribute\n",
    "\n",
    "property_details['parking_space'].unique()"
   ]
  },
  {
   "cell_type": "code",
   "execution_count": 13,
   "metadata": {},
   "outputs": [
    {
     "data": {
      "text/plain": [
       "array(['4 ', '3 ', '12', 'Se', '2 ', '1 ', 'De'], dtype=object)"
      ]
     },
     "execution_count": 13,
     "metadata": {},
     "output_type": "execute_result"
    }
   ],
   "source": [
    "property_details['bedroom'].unique()"
   ]
  },
  {
   "cell_type": "code",
   "execution_count": 15,
   "metadata": {},
   "outputs": [
    {
     "data": {
      "text/plain": [
       "array(['5', '4', nan, 'ms16 ', 'Parking ', '3', '5 '], dtype=object)"
      ]
     },
     "execution_count": 15,
     "metadata": {},
     "output_type": "execute_result"
    }
   ],
   "source": [
    "property_details['toilet'].unique()"
   ]
  },
  {
   "cell_type": "code",
   "execution_count": 18,
   "metadata": {},
   "outputs": [
    {
     "data": {
      "text/plain": [
       "property         object\n",
       "address          object\n",
       "bedroom          object\n",
       "toilet           object\n",
       "parking_space    object\n",
       "prices           object\n",
       "dtype: object"
      ]
     },
     "execution_count": 18,
     "metadata": {},
     "output_type": "execute_result"
    }
   ],
   "source": [
    "#confirming the data types of each attribute\n",
    "\n",
    "property_details.dtypes"
   ]
  },
  {
   "cell_type": "code",
   "execution_count": 19,
   "metadata": {},
   "outputs": [
    {
     "data": {
      "text/plain": [
       "'10,000,000'"
      ]
     },
     "execution_count": 19,
     "metadata": {},
     "output_type": "execute_result"
    }
   ],
   "source": [
    "property_details['prices'][2]"
   ]
  },
  {
   "cell_type": "code",
   "execution_count": 80,
   "metadata": {},
   "outputs": [],
   "source": [
    "#converting the string value to integer value in the \"price\" attribute\n",
    "\n",
    "#property_details['prices']= property_details.prices.str.replace(',' , '').astype(int)"
   ]
  },
  {
   "cell_type": "code",
   "execution_count": 76,
   "metadata": {},
   "outputs": [
    {
     "data": {
      "text/plain": [
       "dtype('int32')"
      ]
     },
     "execution_count": 76,
     "metadata": {},
     "output_type": "execute_result"
    }
   ],
   "source": [
    "property_details['prices'].dtypes"
   ]
  },
  {
   "cell_type": "code",
   "execution_count": 81,
   "metadata": {},
   "outputs": [],
   "source": [
    "#converting \"nan\" and other wrong values from the dataset to a \"numpy NaN\"\n",
    "\n",
    "property_details_refill = property_details.replace(['nan','ets10 ', 'paces600 ', 'Se', 'De','ms16','Parking '], np.NaN)"
   ]
  },
  {
   "cell_type": "code",
   "execution_count": 82,
   "metadata": {},
   "outputs": [],
   "source": [
    "#converting the data set to munpy\n",
    "\n",
    "numpy_data = property_details_refill.to_numpy()\n"
   ]
  },
  {
   "cell_type": "code",
   "execution_count": 83,
   "metadata": {},
   "outputs": [],
   "source": [
    "#replacing the numpy NaN values to the most frequent value in each dataset\n",
    "\n",
    "imputer = SimpleImputer(missing_values=np.NaN, strategy=\"most_frequent\")"
   ]
  },
  {
   "cell_type": "code",
   "execution_count": 84,
   "metadata": {},
   "outputs": [],
   "source": [
    "property_details_clean = imputer.fit_transform(numpy_data)"
   ]
  },
  {
   "cell_type": "code",
   "execution_count": 85,
   "metadata": {},
   "outputs": [],
   "source": [
    "#converting the non missing dataset back to a dataframe\n",
    "\n",
    "property_details_allclean = pd.DataFrame(data=property_details_clean, columns=titles)"
   ]
  },
  {
   "cell_type": "code",
   "execution_count": 86,
   "metadata": {},
   "outputs": [
    {
     "data": {
      "text/html": [
       "<div>\n",
       "<style scoped>\n",
       "    .dataframe tbody tr th:only-of-type {\n",
       "        vertical-align: middle;\n",
       "    }\n",
       "\n",
       "    .dataframe tbody tr th {\n",
       "        vertical-align: top;\n",
       "    }\n",
       "\n",
       "    .dataframe thead th {\n",
       "        text-align: right;\n",
       "    }\n",
       "</style>\n",
       "<table border=\"1\" class=\"dataframe\">\n",
       "  <thead>\n",
       "    <tr style=\"text-align: right;\">\n",
       "      <th></th>\n",
       "      <th>property</th>\n",
       "      <th>address</th>\n",
       "      <th>bedroom</th>\n",
       "      <th>toilet</th>\n",
       "      <th>parking_space</th>\n",
       "      <th>prices</th>\n",
       "    </tr>\n",
       "  </thead>\n",
       "  <tbody>\n",
       "    <tr>\n",
       "      <th>0</th>\n",
       "      <td>semi-detached duplex for rent</td>\n",
       "      <td>Ikota, Lekki,</td>\n",
       "      <td>4</td>\n",
       "      <td>5</td>\n",
       "      <td>3</td>\n",
       "      <td>3500000</td>\n",
       "    </tr>\n",
       "    <tr>\n",
       "      <th>1</th>\n",
       "      <td>flat for rent</td>\n",
       "      <td>Divine Homes</td>\n",
       "      <td>3</td>\n",
       "      <td>4</td>\n",
       "      <td>2</td>\n",
       "      <td>1500000</td>\n",
       "    </tr>\n",
       "    <tr>\n",
       "      <th>2</th>\n",
       "      <td>terraced duplex for rent</td>\n",
       "      <td>Maitama Distr</td>\n",
       "      <td>4</td>\n",
       "      <td>5</td>\n",
       "      <td>3</td>\n",
       "      <td>10000000</td>\n",
       "    </tr>\n",
       "    <tr>\n",
       "      <th>3</th>\n",
       "      <td>flat for rent</td>\n",
       "      <td>Off Palace Ro</td>\n",
       "      <td>3</td>\n",
       "      <td>4</td>\n",
       "      <td>2</td>\n",
       "      <td>4500000</td>\n",
       "    </tr>\n",
       "    <tr>\n",
       "      <th>4</th>\n",
       "      <td>terraced duplex for rent</td>\n",
       "      <td>Osborne Fores</td>\n",
       "      <td>4</td>\n",
       "      <td>4</td>\n",
       "      <td>3</td>\n",
       "      <td>10000000</td>\n",
       "    </tr>\n",
       "    <tr>\n",
       "      <th>...</th>\n",
       "      <td>...</td>\n",
       "      <td>...</td>\n",
       "      <td>...</td>\n",
       "      <td>...</td>\n",
       "      <td>...</td>\n",
       "      <td>...</td>\n",
       "    </tr>\n",
       "    <tr>\n",
       "      <th>1045</th>\n",
       "      <td>mini flat for rent</td>\n",
       "      <td>Off Ada Georg</td>\n",
       "      <td>2</td>\n",
       "      <td>4</td>\n",
       "      <td>3</td>\n",
       "      <td>600000</td>\n",
       "    </tr>\n",
       "    <tr>\n",
       "      <th>1046</th>\n",
       "      <td>flat for rent</td>\n",
       "      <td>Banana Island</td>\n",
       "      <td>3</td>\n",
       "      <td>3</td>\n",
       "      <td>2</td>\n",
       "      <td>85000</td>\n",
       "    </tr>\n",
       "    <tr>\n",
       "      <th>1047</th>\n",
       "      <td>semi-detached duplex for rent</td>\n",
       "      <td>Orchid Road,</td>\n",
       "      <td>4</td>\n",
       "      <td>4</td>\n",
       "      <td>3</td>\n",
       "      <td>3500000</td>\n",
       "    </tr>\n",
       "    <tr>\n",
       "      <th>1048</th>\n",
       "      <td>terraced duplex for rent</td>\n",
       "      <td>Bourdillon, O</td>\n",
       "      <td>4</td>\n",
       "      <td>5</td>\n",
       "      <td>5</td>\n",
       "      <td>15000000</td>\n",
       "    </tr>\n",
       "    <tr>\n",
       "      <th>1049</th>\n",
       "      <td>self contained (single rooms) for rent</td>\n",
       "      <td>Brand New Sel</td>\n",
       "      <td>1</td>\n",
       "      <td>4</td>\n",
       "      <td>3</td>\n",
       "      <td>300000</td>\n",
       "    </tr>\n",
       "  </tbody>\n",
       "</table>\n",
       "<p>1050 rows × 6 columns</p>\n",
       "</div>"
      ],
      "text/plain": [
       "                                    property          address bedroom toilet  \\\n",
       "0              semi-detached duplex for rent    Ikota, Lekki,      4       5   \n",
       "1                              flat for rent    Divine Homes       3       4   \n",
       "2                   terraced duplex for rent    Maitama Distr      4       5   \n",
       "3                              flat for rent    Off Palace Ro      3       4   \n",
       "4                   terraced duplex for rent    Osborne Fores      4       4   \n",
       "...                                      ...              ...     ...    ...   \n",
       "1045                      mini flat for rent    Off Ada Georg      2       4   \n",
       "1046                           flat for rent    Banana Island      3       3   \n",
       "1047           semi-detached duplex for rent    Orchid Road,       4       4   \n",
       "1048                terraced duplex for rent    Bourdillon, O      4       5   \n",
       "1049  self contained (single rooms) for rent    Brand New Sel      1       4   \n",
       "\n",
       "     parking_space    prices  \n",
       "0               3    3500000  \n",
       "1               2    1500000  \n",
       "2               3   10000000  \n",
       "3               2    4500000  \n",
       "4               3   10000000  \n",
       "...            ...       ...  \n",
       "1045            3     600000  \n",
       "1046            2      85000  \n",
       "1047            3    3500000  \n",
       "1048            5   15000000  \n",
       "1049            3     300000  \n",
       "\n",
       "[1050 rows x 6 columns]"
      ]
     },
     "execution_count": 86,
     "metadata": {},
     "output_type": "execute_result"
    }
   ],
   "source": [
    "property_details_allclean"
   ]
  },
  {
   "cell_type": "code",
   "execution_count": 73,
   "metadata": {},
   "outputs": [
    {
     "data": {
      "text/plain": [
       "property         0\n",
       "address          0\n",
       "bedroom          0\n",
       "toilet           0\n",
       "parking_space    0\n",
       "prices           0\n",
       "dtype: int64"
      ]
     },
     "execution_count": 73,
     "metadata": {},
     "output_type": "execute_result"
    }
   ],
   "source": [
    "# confirming that there are no more missing values in the dataset\n",
    "\n",
    "property_details_allclean.isnull().sum()"
   ]
  },
  {
   "cell_type": "code",
   "execution_count": 89,
   "metadata": {},
   "outputs": [
    {
     "data": {
      "text/html": [
       "<div>\n",
       "<style scoped>\n",
       "    .dataframe tbody tr th:only-of-type {\n",
       "        vertical-align: middle;\n",
       "    }\n",
       "\n",
       "    .dataframe tbody tr th {\n",
       "        vertical-align: top;\n",
       "    }\n",
       "\n",
       "    .dataframe thead th {\n",
       "        text-align: right;\n",
       "    }\n",
       "</style>\n",
       "<table border=\"1\" class=\"dataframe\">\n",
       "  <thead>\n",
       "    <tr style=\"text-align: right;\">\n",
       "      <th></th>\n",
       "      <th>property</th>\n",
       "      <th>address</th>\n",
       "      <th>bedroom</th>\n",
       "      <th>toilet</th>\n",
       "      <th>parking_space</th>\n",
       "      <th>prices</th>\n",
       "    </tr>\n",
       "  </thead>\n",
       "  <tbody>\n",
       "    <tr>\n",
       "      <th>count</th>\n",
       "      <td>1050</td>\n",
       "      <td>1050</td>\n",
       "      <td>1050</td>\n",
       "      <td>1050</td>\n",
       "      <td>1050</td>\n",
       "      <td>1050</td>\n",
       "    </tr>\n",
       "    <tr>\n",
       "      <th>unique</th>\n",
       "      <td>9</td>\n",
       "      <td>22</td>\n",
       "      <td>5</td>\n",
       "      <td>5</td>\n",
       "      <td>5</td>\n",
       "      <td>19</td>\n",
       "    </tr>\n",
       "    <tr>\n",
       "      <th>top</th>\n",
       "      <td>flat for rent</td>\n",
       "      <td>Maitama Distr</td>\n",
       "      <td>4</td>\n",
       "      <td>4</td>\n",
       "      <td>3</td>\n",
       "      <td>3500000</td>\n",
       "    </tr>\n",
       "    <tr>\n",
       "      <th>freq</th>\n",
       "      <td>300</td>\n",
       "      <td>102</td>\n",
       "      <td>493</td>\n",
       "      <td>707</td>\n",
       "      <td>748</td>\n",
       "      <td>163</td>\n",
       "    </tr>\n",
       "  </tbody>\n",
       "</table>\n",
       "</div>"
      ],
      "text/plain": [
       "             property          address bedroom toilet parking_space   prices\n",
       "count            1050             1050    1050   1050          1050     1050\n",
       "unique              9               22       5      5             5       19\n",
       "top     flat for rent    Maitama Distr      4       4            3   3500000\n",
       "freq              300              102     493    707           748      163"
      ]
     },
     "execution_count": 89,
     "metadata": {},
     "output_type": "execute_result"
    }
   ],
   "source": [
    "# confirming that there are no more missing values in the dataset\n",
    "\n",
    "property_details_allclean.describe()"
   ]
  },
  {
   "cell_type": "code",
   "execution_count": 90,
   "metadata": {},
   "outputs": [
    {
     "data": {
      "text/plain": [
       "array(['3 ', '2 ', '8 ', '5 ', '10 '], dtype=object)"
      ]
     },
     "execution_count": 90,
     "metadata": {},
     "output_type": "execute_result"
    }
   ],
   "source": [
    "property_details_allclean['parking_space'].unique()"
   ]
  },
  {
   "cell_type": "code",
   "execution_count": 91,
   "metadata": {},
   "outputs": [],
   "source": [
    "#converting the below attributes to an integer value\n",
    "\n",
    "property_details_allclean['parking_space'] = property_details_allclean.parking_space.astype(int)\n",
    "property_details_allclean['bedroom'] = property_details_allclean.bedroom.astype(int)\n",
    "property_details_allclean['toilet'] = property_details_allclean.bedroom.astype(int)"
   ]
  },
  {
   "cell_type": "code",
   "execution_count": 94,
   "metadata": {},
   "outputs": [],
   "source": [
    "property_details_allclean['prices'] = property_details_allclean.prices.astype(int)"
   ]
  },
  {
   "cell_type": "code",
   "execution_count": 95,
   "metadata": {},
   "outputs": [
    {
     "data": {
      "text/plain": [
       "property         object\n",
       "address          object\n",
       "bedroom           int32\n",
       "toilet            int32\n",
       "parking_space     int32\n",
       "prices            int32\n",
       "dtype: object"
      ]
     },
     "execution_count": 95,
     "metadata": {},
     "output_type": "execute_result"
    }
   ],
   "source": [
    "#confirming the datatypes after the conversion above\n",
    "\n",
    "property_details_allclean.dtypes"
   ]
  },
  {
   "cell_type": "code",
   "execution_count": 189,
   "metadata": {},
   "outputs": [
    {
     "data": {
      "text/plain": [
       "<seaborn.axisgrid.FacetGrid at 0xe8cbd30>"
      ]
     },
     "execution_count": 189,
     "metadata": {},
     "output_type": "execute_result"
    },
    {
     "data": {
      "image/png": "[encoded data removed]",
      "text/plain": [
       "<Figure size 360x360 with 1 Axes>"
      ]
     },
     "metadata": {
      "needs_background": "light"
     },
     "output_type": "display_data"
    }
   ],
   "source": [
    "#This graph proves that the more the bedrooms of an apartment, the higher the rent price of the apartment\n",
    "\n",
    "sns.relplot(x='bedroom', y='prices', data=property_details_allclean)"
   ]
  },
  {
   "cell_type": "code",
   "execution_count": 127,
   "metadata": {},
   "outputs": [],
   "source": [
    "#converting the address attribute to figures that will allow for correlation analysis\n",
    "\n",
    "add = property_details_allclean['address'].unique()\n",
    "\n",
    "for i,address in enumerate(add):\n",
    "#     print(i)\n",
    "#     print(add)\n",
    "    property_details_allclean.replace(address,i,inplace=True)"
   ]
  },
  {
   "cell_type": "code",
   "execution_count": 129,
   "metadata": {},
   "outputs": [
    {
     "data": {
      "text/html": [
       "<div>\n",
       "<style scoped>\n",
       "    .dataframe tbody tr th:only-of-type {\n",
       "        vertical-align: middle;\n",
       "    }\n",
       "\n",
       "    .dataframe tbody tr th {\n",
       "        vertical-align: top;\n",
       "    }\n",
       "\n",
       "    .dataframe thead th {\n",
       "        text-align: right;\n",
       "    }\n",
       "</style>\n",
       "<table border=\"1\" class=\"dataframe\">\n",
       "  <thead>\n",
       "    <tr style=\"text-align: right;\">\n",
       "      <th></th>\n",
       "      <th>address</th>\n",
       "      <th>bedroom</th>\n",
       "      <th>toilet</th>\n",
       "      <th>parking_space</th>\n",
       "      <th>prices</th>\n",
       "    </tr>\n",
       "  </thead>\n",
       "  <tbody>\n",
       "    <tr>\n",
       "      <th>address</th>\n",
       "      <td>1.000000</td>\n",
       "      <td>-0.309413</td>\n",
       "      <td>-0.309413</td>\n",
       "      <td>0.294171</td>\n",
       "      <td>-0.191911</td>\n",
       "    </tr>\n",
       "    <tr>\n",
       "      <th>bedroom</th>\n",
       "      <td>-0.309413</td>\n",
       "      <td>1.000000</td>\n",
       "      <td>1.000000</td>\n",
       "      <td>0.010700</td>\n",
       "      <td>0.800579</td>\n",
       "    </tr>\n",
       "    <tr>\n",
       "      <th>toilet</th>\n",
       "      <td>-0.309413</td>\n",
       "      <td>1.000000</td>\n",
       "      <td>1.000000</td>\n",
       "      <td>0.010700</td>\n",
       "      <td>0.800579</td>\n",
       "    </tr>\n",
       "    <tr>\n",
       "      <th>parking_space</th>\n",
       "      <td>0.294171</td>\n",
       "      <td>0.010700</td>\n",
       "      <td>0.010700</td>\n",
       "      <td>1.000000</td>\n",
       "      <td>0.037678</td>\n",
       "    </tr>\n",
       "    <tr>\n",
       "      <th>prices</th>\n",
       "      <td>-0.191911</td>\n",
       "      <td>0.800579</td>\n",
       "      <td>0.800579</td>\n",
       "      <td>0.037678</td>\n",
       "      <td>1.000000</td>\n",
       "    </tr>\n",
       "  </tbody>\n",
       "</table>\n",
       "</div>"
      ],
      "text/plain": [
       "                address   bedroom    toilet  parking_space    prices\n",
       "address        1.000000 -0.309413 -0.309413       0.294171 -0.191911\n",
       "bedroom       -0.309413  1.000000  1.000000       0.010700  0.800579\n",
       "toilet        -0.309413  1.000000  1.000000       0.010700  0.800579\n",
       "parking_space  0.294171  0.010700  0.010700       1.000000  0.037678\n",
       "prices        -0.191911  0.800579  0.800579       0.037678  1.000000"
      ]
     },
     "execution_count": 129,
     "metadata": {},
     "output_type": "execute_result"
    }
   ],
   "source": [
    "#correlation analysis\n",
    "#This shows that there is a huge correlation between bedrooms and toilets. This is so because in most cases, each bedroom has a toilet in it.\n",
    "#Also a strong correlation between prices and bedroom. This is so because the more the bedrooms, the more expensive the apartment will be\n",
    "\n",
    "property_details_allclean.corr(method=\"pearson\")"
   ]
  },
  {
   "cell_type": "code",
   "execution_count": 121,
   "metadata": {},
   "outputs": [
    {
     "data": {
      "text/plain": [
       "<seaborn.axisgrid.PairGrid at 0xe240cb0>"
      ]
     },
     "execution_count": 121,
     "metadata": {},
     "output_type": "execute_result"
    },
    {
     "data": {
      "image/png": "[encoded data removed]",
      "text/plain": [
       "<Figure size 756x360 with 3 Axes>"
      ]
     },
     "metadata": {
      "needs_background": "light"
     },
     "output_type": "display_data"
    }
   ],
   "source": [
    "#relationship plot between all the attributes in the dataset in respect to rent prices \n",
    "\n",
    "sns.pairplot(property_details_allclean, x_vars=['bedroom','toilet','parking_space'], y_vars='prices', height=5, aspect=0.7)"
   ]
  },
  {
   "cell_type": "code",
   "execution_count": 142,
   "metadata": {},
   "outputs": [],
   "source": [
    "#setting \"prices\" to be the target variable and setting to y\n",
    "\n",
    "y = property_details_allclean['prices']"
   ]
  },
  {
   "cell_type": "code",
   "execution_count": 143,
   "metadata": {},
   "outputs": [],
   "source": [
    "#setting the relavant variables to x\n",
    "\n",
    "x = property_details_allclean.drop(['prices','property','address'], axis=1)"
   ]
  },
  {
   "cell_type": "code",
   "execution_count": 144,
   "metadata": {},
   "outputs": [
    {
     "data": {
      "text/plain": [
       "(1050,)"
      ]
     },
     "execution_count": 144,
     "metadata": {},
     "output_type": "execute_result"
    }
   ],
   "source": [
    "y.shape"
   ]
  },
  {
   "cell_type": "code",
   "execution_count": 145,
   "metadata": {},
   "outputs": [
    {
     "data": {
      "text/plain": [
       "(1050, 3)"
      ]
     },
     "execution_count": 145,
     "metadata": {},
     "output_type": "execute_result"
    }
   ],
   "source": [
    "x.shape"
   ]
  },
  {
   "cell_type": "code",
   "execution_count": 146,
   "metadata": {},
   "outputs": [],
   "source": [
    "#converting the x variable to numpy\n",
    "\n",
    "x = x.to_numpy()"
   ]
  },
  {
   "cell_type": "code",
   "execution_count": 147,
   "metadata": {},
   "outputs": [],
   "source": [
    "#converting the y variable to numpy\n",
    "\n",
    "y = y.to_numpy()"
   ]
  },
  {
   "cell_type": "code",
   "execution_count": 148,
   "metadata": {},
   "outputs": [],
   "source": [
    "#calling linear regression for application\n",
    "\n",
    "reg = LinearRegression()"
   ]
  },
  {
   "cell_type": "code",
   "execution_count": 171,
   "metadata": {},
   "outputs": [],
   "source": [
    "#reg.fit(x,y)"
   ]
  },
  {
   "cell_type": "code",
   "execution_count": 172,
   "metadata": {},
   "outputs": [],
   "source": [
    "#splitting the dataset into 2 for training and for testing purpose\n",
    "\n",
    "x_train, x_test, y_train, y_test = train_test_split(x,y,random_state=1)"
   ]
  },
  {
   "cell_type": "code",
   "execution_count": 173,
   "metadata": {},
   "outputs": [
    {
     "name": "stdout",
     "output_type": "stream",
     "text": [
      "(787, 3)\n",
      "(263, 3)\n",
      "(787,)\n",
      "(263,)\n"
     ]
    }
   ],
   "source": [
    "print(x_train.shape)\n",
    "print(x_test.shape)\n",
    "print(y_train.shape)\n",
    "print(y_test.shape)"
   ]
  },
  {
   "cell_type": "code",
   "execution_count": 174,
   "metadata": {},
   "outputs": [
    {
     "data": {
      "text/plain": [
       "LinearRegression(copy_X=True, fit_intercept=True, n_jobs=None, normalize=False)"
      ]
     },
     "execution_count": 174,
     "metadata": {},
     "output_type": "execute_result"
    }
   ],
   "source": [
    "reg.fit(x_train,y_train)"
   ]
  },
  {
   "cell_type": "code",
   "execution_count": 175,
   "metadata": {},
   "outputs": [
    {
     "name": "stdout",
     "output_type": "stream",
     "text": [
      "-4296970.734434562\n"
     ]
    }
   ],
   "source": [
    "print(reg.intercept_)"
   ]
  },
  {
   "cell_type": "code",
   "execution_count": 176,
   "metadata": {},
   "outputs": [
    {
     "name": "stdout",
     "output_type": "stream",
     "text": [
      "[ 2.30378992e+18 -2.30378992e+18  1.50152000e+05]\n"
     ]
    }
   ],
   "source": [
    "print(reg.coef_)"
   ]
  },
  {
   "cell_type": "code",
   "execution_count": 182,
   "metadata": {},
   "outputs": [],
   "source": [
    "y_new = reg.predict(x_train)"
   ]
  },
  {
   "cell_type": "code",
   "execution_count": 183,
   "metadata": {},
   "outputs": [
    {
     "data": {
      "text/plain": [
       "array([ 3472013.26556544,  1032333.26556544,  5911181.26556544,\n",
       "        5911181.26556544,  5911181.26556544,  3321861.26556544,\n",
       "        1032333.26556544,  3321861.26556544,  5911181.26556544,\n",
       "        5911181.26556544,  6661941.26556544,  3321861.26556544,\n",
       "        5911181.26556544,  5911181.26556544,  3321861.26556544,\n",
       "        5911181.26556544,  6661941.26556544,  1032333.26556544,\n",
       "        5911181.26556544,  5911181.26556544,  6211485.26556544,\n",
       "        6211485.26556544,  5911181.26556544,  5911181.26556544,\n",
       "        3472013.26556544,  4222773.26556544,  5911181.26556544,\n",
       "        4222773.26556544,  3472013.26556544,  3472013.26556544,\n",
       "       -1407090.73443456,  5911181.26556544, -1407090.73443456,\n",
       "       25427597.26556544, -1407090.73443456,  1032333.26556544,\n",
       "       -1407090.73443456,  3321861.26556544,  5911181.26556544,\n",
       "        3472013.26556544,  5911181.26556544,  5911181.26556544,\n",
       "        5911181.26556544,  4222773.26556544,  3321861.26556544,\n",
       "        6661941.26556544,  5911181.26556544, 25427597.26556544,\n",
       "       25427597.26556544,  5911181.26556544, 25427597.26556544,\n",
       "        3321861.26556544,  5911181.26556544,  3472013.26556544,\n",
       "        3472013.26556544,  4222773.26556544,  6661941.26556544,\n",
       "        6211485.26556544,  1032333.26556544, 25427597.26556544,\n",
       "        6211485.26556544,  1032333.26556544,  6211485.26556544,\n",
       "        5911181.26556544,  3321861.26556544,  3472013.26556544,\n",
       "        6211485.26556544,  5911181.26556544,  1032333.26556544,\n",
       "        5911181.26556544,  1032333.26556544,  1032333.26556544,\n",
       "        5911181.26556544,  3472013.26556544,  5911181.26556544,\n",
       "       -1407090.73443456,  1032333.26556544,  5911181.26556544,\n",
       "        1032333.26556544,  6661941.26556544,  1032333.26556544,\n",
       "        3321861.26556544,  1032333.26556544,  3472013.26556544,\n",
       "        1032333.26556544,  5911181.26556544,  5911181.26556544,\n",
       "        1032333.26556544,  6962245.26556544,  3472013.26556544,\n",
       "        6211485.26556544,  3321861.26556544,  3321861.26556544,\n",
       "        1032333.26556544,  5911181.26556544,  5911181.26556544,\n",
       "        3472013.26556544,  3472013.26556544, -1407090.73443456,\n",
       "        5911181.26556544,  5911181.26556544,  6211485.26556544,\n",
       "        5911181.26556544,  1032333.26556544,  5911181.26556544,\n",
       "        5911181.26556544,  5911181.26556544,  5911181.26556544,\n",
       "        3321861.26556544,  5911181.26556544,  5911181.26556544,\n",
       "        5911181.26556544,  1032333.26556544, 25427597.26556544,\n",
       "        3321861.26556544,  5911181.26556544, -1407090.73443456,\n",
       "        5911181.26556544, -1407090.73443456,  3472013.26556544,\n",
       "       -1407090.73443456,  5911181.26556544,  3321861.26556544,\n",
       "        3321861.26556544,  1032333.26556544,  3321861.26556544,\n",
       "        5911181.26556544,  6661941.26556544,  6211485.26556544,\n",
       "        6661941.26556544,  5911181.26556544,  5911181.26556544,\n",
       "        5911181.26556544,  5911181.26556544,  5911181.26556544,\n",
       "        3321861.26556544, 25427597.26556544,  5911181.26556544,\n",
       "        5911181.26556544,  5911181.26556544,  1032333.26556544,\n",
       "        3472013.26556544,  5911181.26556544,  6661941.26556544,\n",
       "        3321861.26556544,  4222773.26556544,  6211485.26556544,\n",
       "        5911181.26556544,  3472013.26556544, 25427597.26556544,\n",
       "        1032333.26556544,  5911181.26556544, -1407090.73443456,\n",
       "        5911181.26556544,  3321861.26556544,  3472013.26556544,\n",
       "        3321861.26556544, -1407090.73443456,  5911181.26556544,\n",
       "        3472013.26556544,  5911181.26556544,  5911181.26556544,\n",
       "        5911181.26556544,  5911181.26556544, 25427597.26556544,\n",
       "        3321861.26556544,  5911181.26556544,  3321861.26556544,\n",
       "        3321861.26556544, -1407090.73443456,  5911181.26556544,\n",
       "        3321861.26556544,  1032333.26556544,  5911181.26556544,\n",
       "        3472013.26556544,  5911181.26556544,  4222773.26556544,\n",
       "        5911181.26556544,  4222773.26556544, 25427597.26556544,\n",
       "        3321861.26556544,  5911181.26556544, -1407090.73443456,\n",
       "       -1407090.73443456,  1032333.26556544,  5911181.26556544,\n",
       "        3472013.26556544,  5911181.26556544,  5911181.26556544,\n",
       "        5911181.26556544,  5911181.26556544,  1032333.26556544,\n",
       "        5911181.26556544,  3472013.26556544, -1407090.73443456,\n",
       "        4222773.26556544,  3321861.26556544,  5911181.26556544,\n",
       "        5911181.26556544,  1032333.26556544,  3321861.26556544,\n",
       "        5911181.26556544, 25427597.26556544,  3472013.26556544,\n",
       "       -1407090.73443456, 25427597.26556544,  3472013.26556544,\n",
       "        1032333.26556544,  5911181.26556544, 25427597.26556544,\n",
       "        1032333.26556544,  5911181.26556544,  5911181.26556544,\n",
       "        3321861.26556544,  5911181.26556544,  3472013.26556544,\n",
       "        1032333.26556544,  3321861.26556544,  1032333.26556544,\n",
       "        5911181.26556544, 25427597.26556544,  3321861.26556544,\n",
       "        4222773.26556544,  5911181.26556544,  6661941.26556544,\n",
       "        5911181.26556544,  5911181.26556544,  5911181.26556544,\n",
       "        3472013.26556544,  4222773.26556544,  1032333.26556544,\n",
       "        5911181.26556544,  5911181.26556544,  4222773.26556544,\n",
       "        3472013.26556544,  5911181.26556544,  3472013.26556544,\n",
       "       -1407090.73443456, 25427597.26556544,  1032333.26556544,\n",
       "        3321861.26556544,  3321861.26556544,  5911181.26556544,\n",
       "        1032333.26556544,  5911181.26556544,  5911181.26556544,\n",
       "        5911181.26556544,  5911181.26556544,  5911181.26556544,\n",
       "        1032333.26556544,  3472013.26556544, -1407090.73443456,\n",
       "        3321861.26556544,  5911181.26556544,  5911181.26556544,\n",
       "        3321861.26556544,  3321861.26556544,  5911181.26556544,\n",
       "        5911181.26556544,  3472013.26556544,  5911181.26556544,\n",
       "        3472013.26556544,  5911181.26556544,  4222773.26556544,\n",
       "        5911181.26556544,  5911181.26556544,  4222773.26556544,\n",
       "        5911181.26556544,  6661941.26556544, 25427597.26556544,\n",
       "        3472013.26556544,  3321861.26556544,  5911181.26556544,\n",
       "        3472013.26556544,  6211485.26556544,  6211485.26556544,\n",
       "        3472013.26556544,  3472013.26556544,  3472013.26556544,\n",
       "        5911181.26556544, 25427597.26556544,  5911181.26556544,\n",
       "        5911181.26556544,  5911181.26556544,  1032333.26556544,\n",
       "       25427597.26556544,  5911181.26556544,  1032333.26556544,\n",
       "        6211485.26556544,  5911181.26556544,  3472013.26556544,\n",
       "        5911181.26556544,  5911181.26556544,  5911181.26556544,\n",
       "        5911181.26556544,  5911181.26556544,  3472013.26556544,\n",
       "        6962245.26556544,  6211485.26556544,  5911181.26556544,\n",
       "       -1407090.73443456,  3321861.26556544,  5911181.26556544,\n",
       "        5911181.26556544,  4222773.26556544,  5911181.26556544,\n",
       "        6211485.26556544,  5911181.26556544,  3472013.26556544,\n",
       "        5911181.26556544,  6661941.26556544,  4222773.26556544,\n",
       "        5911181.26556544,  5911181.26556544,  5911181.26556544,\n",
       "        5911181.26556544,  5911181.26556544, 25427597.26556544,\n",
       "       -1407090.73443456, 25427597.26556544, -1407090.73443456,\n",
       "       -1407090.73443456,  5911181.26556544, -1407090.73443456,\n",
       "        5911181.26556544,  5911181.26556544, -1407090.73443456,\n",
       "        5911181.26556544,  5911181.26556544,  5911181.26556544,\n",
       "       25427597.26556544,  3472013.26556544,  5911181.26556544,\n",
       "        5911181.26556544,  3472013.26556544,  3321861.26556544,\n",
       "        5911181.26556544,  3472013.26556544,  5911181.26556544,\n",
       "        3321861.26556544,  3472013.26556544,  3321861.26556544,\n",
       "        3321861.26556544, -1407090.73443456,  3472013.26556544,\n",
       "        3321861.26556544,  5911181.26556544,  5911181.26556544,\n",
       "        3321861.26556544,  1032333.26556544,  5911181.26556544,\n",
       "        3472013.26556544,  3321861.26556544,  1032333.26556544,\n",
       "        5911181.26556544,  3321861.26556544,  5911181.26556544,\n",
       "        3472013.26556544,  3321861.26556544,  3472013.26556544,\n",
       "        3321861.26556544,  3321861.26556544,  5911181.26556544,\n",
       "        5911181.26556544,  5911181.26556544,  5911181.26556544,\n",
       "        3321861.26556544,  5911181.26556544,  3472013.26556544,\n",
       "        4222773.26556544,  3472013.26556544, -1407090.73443456,\n",
       "        3321861.26556544,  3472013.26556544,  5911181.26556544,\n",
       "        5911181.26556544,  5911181.26556544,  5911181.26556544,\n",
       "        3321861.26556544,  1032333.26556544,  4222773.26556544,\n",
       "        4222773.26556544,  5911181.26556544,  3472013.26556544,\n",
       "        3472013.26556544,  3321861.26556544,  3321861.26556544,\n",
       "        5911181.26556544,  5911181.26556544,  4222773.26556544,\n",
       "        1032333.26556544,  1032333.26556544,  5911181.26556544,\n",
       "        6211485.26556544,  5911181.26556544,  3321861.26556544,\n",
       "       25427597.26556544,  5911181.26556544,  5911181.26556544,\n",
       "        3321861.26556544,  5911181.26556544, -1407090.73443456,\n",
       "        5911181.26556544,  5911181.26556544,  1032333.26556544,\n",
       "        5911181.26556544,  6211485.26556544,  5911181.26556544,\n",
       "        3472013.26556544,  5911181.26556544,  3321861.26556544,\n",
       "        3321861.26556544,  3472013.26556544,  3321861.26556544,\n",
       "        3321861.26556544,  5911181.26556544,  1032333.26556544,\n",
       "        3321861.26556544,  6211485.26556544,  5911181.26556544,\n",
       "       25427597.26556544,  1032333.26556544,  3321861.26556544,\n",
       "        3321861.26556544,  3321861.26556544,  3321861.26556544,\n",
       "       25427597.26556544,  1032333.26556544,  1032333.26556544,\n",
       "        1032333.26556544, -1407090.73443456,  3472013.26556544,\n",
       "        3321861.26556544, -1407090.73443456,  5911181.26556544,\n",
       "        5911181.26556544,  3321861.26556544,  5911181.26556544,\n",
       "        5911181.26556544,  5911181.26556544,  3472013.26556544,\n",
       "        5911181.26556544,  5911181.26556544,  3472013.26556544,\n",
       "        3472013.26556544, -1407090.73443456,  6211485.26556544,\n",
       "        3321861.26556544, -1407090.73443456,  5911181.26556544,\n",
       "        6211485.26556544,  3472013.26556544,  5911181.26556544,\n",
       "        5911181.26556544,  3321861.26556544,  3321861.26556544,\n",
       "        5911181.26556544,  5911181.26556544,  5911181.26556544,\n",
       "        3472013.26556544,  5911181.26556544,  6661941.26556544,\n",
       "       25427597.26556544, 25427597.26556544,  5911181.26556544,\n",
       "       -1407090.73443456, 25427597.26556544,  3321861.26556544,\n",
       "        3472013.26556544,  1032333.26556544,  3472013.26556544,\n",
       "        6211485.26556544,  3321861.26556544,  6661941.26556544,\n",
       "        3472013.26556544,  5911181.26556544,  5911181.26556544,\n",
       "        5911181.26556544, 25427597.26556544,  5911181.26556544,\n",
       "       -1407090.73443456,  3472013.26556544,  5911181.26556544,\n",
       "        3472013.26556544,  3472013.26556544,  3472013.26556544,\n",
       "        6211485.26556544,  6211485.26556544,  5911181.26556544,\n",
       "        3472013.26556544,  3472013.26556544,  3472013.26556544,\n",
       "       -1407090.73443456,  3321861.26556544, -1407090.73443456,\n",
       "        6211485.26556544,  6211485.26556544,  3321861.26556544,\n",
       "        5911181.26556544,  5911181.26556544, -1407090.73443456,\n",
       "        3472013.26556544,  4222773.26556544,  1032333.26556544,\n",
       "       25427597.26556544, 25427597.26556544,  3472013.26556544,\n",
       "       25427597.26556544, -1407090.73443456,  5911181.26556544,\n",
       "        3321861.26556544,  5911181.26556544,  3321861.26556544,\n",
       "        5911181.26556544,  5911181.26556544,  1032333.26556544,\n",
       "        3321861.26556544, -1407090.73443456,  6211485.26556544,\n",
       "        3472013.26556544,  3472013.26556544,  5911181.26556544,\n",
       "        1032333.26556544,  5911181.26556544,  1032333.26556544,\n",
       "        5911181.26556544, -1407090.73443456,  3321861.26556544,\n",
       "        3472013.26556544,  5911181.26556544,  5911181.26556544,\n",
       "        1032333.26556544,  5911181.26556544,  5911181.26556544,\n",
       "        5911181.26556544,  3472013.26556544,  5911181.26556544,\n",
       "        3321861.26556544,  3321861.26556544,  3472013.26556544,\n",
       "        3321861.26556544,  3472013.26556544,  6661941.26556544,\n",
       "       25427597.26556544,  5911181.26556544,  1032333.26556544,\n",
       "        6661941.26556544,  5911181.26556544,  4222773.26556544,\n",
       "        3321861.26556544,  4222773.26556544,  5911181.26556544,\n",
       "        1032333.26556544, 25427597.26556544,  3321861.26556544,\n",
       "        5911181.26556544,  5911181.26556544,  3321861.26556544,\n",
       "       25427597.26556544, 25427597.26556544,  5911181.26556544,\n",
       "        4222773.26556544,  3472013.26556544,  3321861.26556544,\n",
       "        3321861.26556544,  5911181.26556544,  1032333.26556544,\n",
       "        5911181.26556544,  1032333.26556544,  5911181.26556544,\n",
       "        5911181.26556544, -1407090.73443456,  3472013.26556544,\n",
       "        3321861.26556544,  3472013.26556544,  5911181.26556544,\n",
       "        5911181.26556544,  3472013.26556544,  5911181.26556544,\n",
       "       25427597.26556544,  6211485.26556544,  5911181.26556544,\n",
       "        1032333.26556544,  6661941.26556544,  5911181.26556544,\n",
       "        5911181.26556544,  5911181.26556544,  5911181.26556544,\n",
       "        6661941.26556544,  5911181.26556544,  5911181.26556544,\n",
       "        1032333.26556544,  3472013.26556544,  3472013.26556544,\n",
       "        3472013.26556544,  5911181.26556544,  1032333.26556544,\n",
       "        5911181.26556544,  6661941.26556544,  5911181.26556544,\n",
       "       -1407090.73443456,  3321861.26556544,  3321861.26556544,\n",
       "        4222773.26556544,  5911181.26556544,  5911181.26556544,\n",
       "        3321861.26556544,  3321861.26556544,  6661941.26556544,\n",
       "        6211485.26556544,  3472013.26556544, -1407090.73443456,\n",
       "        4222773.26556544,  5911181.26556544,  5911181.26556544,\n",
       "        6211485.26556544,  6661941.26556544,  3321861.26556544,\n",
       "        5911181.26556544,  3321861.26556544,  5911181.26556544,\n",
       "        6661941.26556544, 25427597.26556544,  3472013.26556544,\n",
       "        5911181.26556544,  4222773.26556544,  1032333.26556544,\n",
       "        5911181.26556544, 25427597.26556544,  5911181.26556544,\n",
       "        3472013.26556544,  3472013.26556544,  3321861.26556544,\n",
       "        1032333.26556544,  3321861.26556544,  5911181.26556544,\n",
       "       -1407090.73443456,  5911181.26556544,  5911181.26556544,\n",
       "        5911181.26556544,  3472013.26556544,  6661941.26556544,\n",
       "        4222773.26556544,  5911181.26556544,  3321861.26556544,\n",
       "       -1407090.73443456,  5911181.26556544,  5911181.26556544,\n",
       "        6211485.26556544,  5911181.26556544,  1032333.26556544,\n",
       "        5911181.26556544,  5911181.26556544,  5911181.26556544,\n",
       "        3321861.26556544,  5911181.26556544,  5911181.26556544,\n",
       "        6661941.26556544,  4222773.26556544,  6211485.26556544,\n",
       "        1032333.26556544,  5911181.26556544,  5911181.26556544,\n",
       "        6211485.26556544,  6661941.26556544,  3321861.26556544,\n",
       "        5911181.26556544,  5911181.26556544,  6661941.26556544,\n",
       "        3321861.26556544,  5911181.26556544,  6211485.26556544,\n",
       "        6211485.26556544,  1032333.26556544,  5911181.26556544,\n",
       "        5911181.26556544,  3472013.26556544,  5911181.26556544,\n",
       "        5911181.26556544,  5911181.26556544,  5911181.26556544,\n",
       "        6661941.26556544,  5911181.26556544, -1407090.73443456,\n",
       "       -1407090.73443456,  3472013.26556544,  3321861.26556544,\n",
       "        1032333.26556544,  3321861.26556544,  3321861.26556544,\n",
       "        4222773.26556544,  5911181.26556544,  6661941.26556544,\n",
       "        5911181.26556544,  4222773.26556544,  5911181.26556544,\n",
       "       25427597.26556544,  3321861.26556544,  5911181.26556544,\n",
       "        4222773.26556544,  4222773.26556544,  5911181.26556544,\n",
       "        3321861.26556544,  5911181.26556544,  5911181.26556544,\n",
       "        1032333.26556544,  3321861.26556544,  5911181.26556544,\n",
       "        3321861.26556544, -1407090.73443456, -1407090.73443456,\n",
       "        5911181.26556544,  3321861.26556544,  5911181.26556544,\n",
       "        5911181.26556544,  3472013.26556544,  3472013.26556544,\n",
       "        5911181.26556544,  5911181.26556544,  1032333.26556544,\n",
       "        5911181.26556544,  3321861.26556544,  5911181.26556544,\n",
       "        1032333.26556544,  5911181.26556544,  5911181.26556544,\n",
       "        5911181.26556544,  3472013.26556544,  5911181.26556544,\n",
       "        5911181.26556544,  5911181.26556544,  3321861.26556544,\n",
       "        6211485.26556544,  5911181.26556544,  3472013.26556544,\n",
       "        3321861.26556544,  4222773.26556544,  5911181.26556544,\n",
       "        3321861.26556544,  5911181.26556544,  5911181.26556544,\n",
       "        3321861.26556544,  1032333.26556544,  3321861.26556544,\n",
       "        5911181.26556544,  3472013.26556544,  5911181.26556544,\n",
       "        3321861.26556544,  1032333.26556544,  1032333.26556544,\n",
       "        5911181.26556544,  5911181.26556544,  6211485.26556544,\n",
       "        3321861.26556544,  3472013.26556544,  3321861.26556544,\n",
       "        3472013.26556544, -1407090.73443456,  6661941.26556544,\n",
       "        1032333.26556544,  4222773.26556544,  3472013.26556544,\n",
       "        3321861.26556544,  5911181.26556544,  5911181.26556544,\n",
       "        5911181.26556544,  6211485.26556544, -1407090.73443456,\n",
       "        1032333.26556544,  1032333.26556544,  5911181.26556544,\n",
       "        3472013.26556544,  6211485.26556544,  5911181.26556544,\n",
       "        5911181.26556544,  5911181.26556544,  3472013.26556544,\n",
       "        5911181.26556544,  5911181.26556544,  1032333.26556544,\n",
       "        3321861.26556544,  3472013.26556544,  3321861.26556544,\n",
       "        5911181.26556544,  3321861.26556544,  6661941.26556544,\n",
       "        5911181.26556544])"
      ]
     },
     "execution_count": 183,
     "metadata": {},
     "output_type": "execute_result"
    }
   ],
   "source": [
    "y_new"
   ]
  },
  {
   "cell_type": "code",
   "execution_count": 185,
   "metadata": {},
   "outputs": [
    {
     "data": {
      "text/plain": [
       "array([ 4000000,   500000,   350000,  3500000,  3000000,  1500000,\n",
       "         500000,    85000,  3500000, 10000000,  3500000,  1500000,\n",
       "       15000000, 10000000,  4500000, 15000000,  3500000,   600000,\n",
       "       15000000,  3500000, 15000000, 15000000,  3500000,  3500000,\n",
       "        4000000,  2000000,  3500000,  2000000,  1400000,  1400000,\n",
       "         300000,   350000,   300000, 25000000,  1600000,   600000,\n",
       "         300000,  4500000, 10000000,  4000000, 10000000,  3500000,\n",
       "        3500000,  2000000,  1500000,  3500000, 10000000, 25000000,\n",
       "       25000000, 15000000, 25000000,  1500000,  3500000,  2500000,\n",
       "        4000000,  2000000,  3500000, 15000000,   500000, 25000000,\n",
       "       15000000,   500000, 15000000,  3000000,    85000,  2500000,\n",
       "       15000000,  3000000,   500000, 15000000,   500000,   600000,\n",
       "        3500000,  4000000,  3500000,  1600000,   600000,  3000000,\n",
       "         500000,  3500000,   600000,  1500000,   600000,  1400000,\n",
       "         500000, 10000000,   350000,   600000,  7000000,  2500000,\n",
       "       15000000,    85000,  1500000,   500000,   350000,   350000,\n",
       "        4000000,  2500000,   300000, 10000000, 10000000, 15000000,\n",
       "         350000,   600000,  3000000, 10000000,  3000000,  3000000,\n",
       "        4500000,  3500000,  3500000, 10000000,   600000, 25000000,\n",
       "        4500000, 15000000,   300000, 15000000,   300000,  2500000,\n",
       "         300000,  3500000,  4500000,  1500000,   600000,  4500000,\n",
       "        3500000,  3500000, 15000000,  3500000, 15000000, 15000000,\n",
       "        3500000,  3500000,  3500000,    85000, 25000000,   350000,\n",
       "       10000000,   350000,   500000,  1400000,   350000,  3500000,\n",
       "          85000,  2000000, 15000000,  3000000,  1400000, 25000000,\n",
       "         600000, 10000000,   300000,  3500000,    85000,  4000000,\n",
       "          85000,  1600000,  3000000,  2500000,  3000000,  3000000,\n",
       "        3500000,  2000000, 25000000,    85000,  3500000,  1800000,\n",
       "          85000,   300000, 10000000,    85000,   600000, 10000000,\n",
       "        2500000,   350000,  2000000,  3000000,  2000000, 25000000,\n",
       "          85000,  3500000,   300000,  1600000,   500000,   350000,\n",
       "        1400000,  3000000, 10000000, 10000000,  2000000,   600000,\n",
       "       10000000,  2500000,  1600000,  2000000,  4500000, 10000000,\n",
       "       10000000,   600000,  4500000,  2000000, 25000000,  4000000,\n",
       "         300000, 25000000,  4000000,   500000, 10000000, 25000000,\n",
       "         500000, 10000000,  3500000,  4500000,   350000,  2500000,\n",
       "         500000,  1500000,   600000, 15000000, 25000000,    85000,\n",
       "        2000000,  3000000,  3500000, 10000000,  2000000,  3500000,\n",
       "        1400000,  2000000,   500000, 10000000, 10000000,  2000000,\n",
       "        1400000,  3500000,  2500000,   300000, 25000000,   500000,\n",
       "          85000,  1500000, 10000000,   500000,  3500000,  3500000,\n",
       "        2000000,  3500000,  3500000,   500000,  4000000,   300000,\n",
       "        4500000,   350000, 10000000,  1500000,  4500000,   350000,\n",
       "       10000000,  1400000,   350000,  4000000,  2000000,  2000000,\n",
       "        3500000,  3500000,  2000000, 15000000,  3500000, 25000000,\n",
       "        2500000,  1500000,  3000000,  1400000, 15000000, 15000000,\n",
       "        1400000,  1400000,  1400000,  3000000, 25000000, 15000000,\n",
       "       15000000,  3500000,   500000, 25000000, 10000000,   600000,\n",
       "       15000000, 10000000,  2500000, 10000000, 10000000, 15000000,\n",
       "        2000000, 15000000,  4000000,  7000000, 15000000, 10000000,\n",
       "        1600000,  4500000, 10000000, 10000000,  2000000,  3000000,\n",
       "       15000000,  3000000,  2500000, 10000000,  3500000,  2000000,\n",
       "        2000000,  3500000,  3500000, 15000000,   350000, 25000000,\n",
       "         300000, 25000000,   300000,   300000,  3500000,   300000,\n",
       "        2000000,  3500000,   300000,  3500000,  3000000,  3500000,\n",
       "       25000000,  1400000,  3500000, 15000000,  1400000,  1500000,\n",
       "       10000000,  4000000,  3500000,    85000,  4000000,    85000,\n",
       "        1500000,   300000,  4000000,    85000, 10000000, 15000000,\n",
       "        1500000,   600000,  3000000,  2500000,    85000,   600000,\n",
       "        3500000,  4500000, 10000000,  2500000,  1500000,  2500000,\n",
       "        1500000,  1500000,  3500000, 15000000,  3500000,  3000000,\n",
       "        1500000,  3000000,  2500000,  2000000,  4000000,   300000,\n",
       "          85000,  4000000,  2000000, 15000000, 15000000, 15000000,\n",
       "          85000,   500000,  2000000,  2000000,  3000000,  1400000,\n",
       "        2500000,  1500000,  4500000,  2000000,  3500000,  2000000,\n",
       "         500000,   500000,  3500000, 15000000,  2000000,  4500000,\n",
       "       25000000,  2000000, 15000000,    85000,  3000000,   300000,\n",
       "         350000, 10000000,   500000,  3000000, 15000000, 15000000,\n",
       "        4000000, 10000000,  4500000,  1800000,  1400000,  1500000,\n",
       "        1500000,  3500000,   500000,  1500000, 15000000,  3000000,\n",
       "       25000000,   500000,  4500000,  1500000,  1500000,  1500000,\n",
       "       25000000,   600000,   500000,   600000,   300000,  1400000,\n",
       "        4500000,   300000,  2000000,  3500000,    85000, 15000000,\n",
       "         350000,  3000000,  2500000,  3500000, 15000000,  4000000,\n",
       "        1400000,   300000, 15000000,  4500000,   300000,   350000,\n",
       "       15000000,  4000000,   350000, 15000000,  1500000,  1500000,\n",
       "        3500000, 10000000, 15000000,  4000000,  3000000,  3500000,\n",
       "       25000000, 25000000,   350000,   300000, 25000000,  4500000,\n",
       "        4000000,   600000,  1400000, 15000000,    85000,  3500000,\n",
       "        4000000, 10000000, 10000000,  3500000, 25000000, 10000000,\n",
       "         300000,  1400000,  3500000,  4000000,  4000000,  1400000,\n",
       "       15000000, 15000000,  3500000,  1400000,  4000000,  2500000,\n",
       "         300000,  1800000,  1600000, 15000000, 15000000,  1800000,\n",
       "        3500000, 10000000,   300000,  2500000,  2000000,   500000,\n",
       "       25000000, 25000000,  4000000, 25000000,   300000, 10000000,\n",
       "          85000,  3000000,  4500000, 15000000,  3500000,   600000,\n",
       "        4500000,   300000, 15000000,  4000000,  2500000,  3500000,\n",
       "         500000, 10000000,   500000, 10000000,   300000,    85000,\n",
       "        4000000,   350000,  3500000,   500000, 15000000, 15000000,\n",
       "       10000000,  1400000,   350000,  4500000,  1500000,  1400000,\n",
       "        1500000,  2500000,  3500000, 25000000,  3500000,   500000,\n",
       "        3500000, 10000000,  2000000,    85000,  2000000,  3500000,\n",
       "         600000, 25000000,    85000, 10000000, 10000000,  4500000,\n",
       "       25000000, 25000000,  3000000,  2000000,  4000000,    85000,\n",
       "        1500000,  3500000,   600000, 10000000,   600000,  3000000,\n",
       "         350000,   300000,  2500000,  4500000,  1400000,  2000000,\n",
       "       10000000,  2500000,  3500000, 25000000, 15000000,  3500000,\n",
       "         600000,  3500000,  2000000, 10000000,  2000000,   350000,\n",
       "        3500000,   350000,  3500000,   500000,  1400000,  2500000,\n",
       "        2500000,  3500000,   500000, 15000000,  3500000,  2000000,\n",
       "         300000,  4500000,  1500000,  2000000,  3500000, 10000000,\n",
       "          85000,  1500000,  3500000, 15000000,  4000000,   300000,\n",
       "        2000000,  3500000,  2000000, 15000000,  3500000,  4500000,\n",
       "        3500000,  1800000, 10000000,  3500000, 25000000,  4000000,\n",
       "         350000,  2000000,   500000,  3500000, 25000000,   350000,\n",
       "        2500000,  2500000,  1500000,   600000,  4500000, 10000000,\n",
       "         300000,  3500000, 10000000, 10000000,  1400000,  3500000,\n",
       "        2000000, 10000000,  4500000,   300000, 10000000,  3500000,\n",
       "       15000000,  3500000,   600000,  3500000,  3000000,  3000000,\n",
       "        1500000,  3500000,   350000,  3500000,  2000000, 15000000,\n",
       "         600000,  2000000,   350000, 15000000,  3500000,    85000,\n",
       "       15000000,   350000,  3500000,  4500000,  3000000, 15000000,\n",
       "       15000000,   600000, 15000000,  3500000,  1400000,  3500000,\n",
       "       10000000,  3500000,   350000,  3500000,  3000000,   300000,\n",
       "         300000,  4000000,  1500000,   600000,    85000,  4500000,\n",
       "        2000000, 10000000,  3500000, 10000000,  2000000, 10000000,\n",
       "       25000000,  1500000, 15000000,  2000000,  2000000,  3500000,\n",
       "        4500000,  3500000, 10000000,   600000,  1500000, 15000000,\n",
       "          85000,   300000,  1600000,  3000000,  1500000,  3500000,\n",
       "         350000,  4000000,  2500000, 10000000,  3500000,   600000,\n",
       "        3500000,  1500000,  3000000,   600000,  3500000,  2000000,\n",
       "        3500000,  2500000,   350000, 10000000,  3000000,  1500000,\n",
       "       15000000, 10000000,  2500000,  1500000,  2000000,  2000000,\n",
       "        1500000,  3000000,  2000000,  1500000,   600000,    85000,\n",
       "       15000000,  1400000, 15000000,    85000,   600000,   500000,\n",
       "        3500000,   350000, 15000000,    85000,  2500000,    85000,\n",
       "        1400000,   300000,  3500000,   600000,  2000000,  4000000,\n",
       "        1500000,  3500000,   350000, 10000000, 15000000,   300000,\n",
       "         600000,   500000,  3500000,  4000000, 15000000,  3500000,\n",
       "       10000000, 10000000,  1400000,  3500000, 10000000,   600000,\n",
       "        4500000,  4000000,    85000,  3000000,  1500000,  3500000,\n",
       "       10000000])"
      ]
     },
     "execution_count": 185,
     "metadata": {},
     "output_type": "execute_result"
    }
   ],
   "source": [
    "y_train"
   ]
  },
  {
   "cell_type": "code",
   "execution_count": 186,
   "metadata": {},
   "outputs": [
    {
     "data": {
      "text/plain": [
       "0.6472256663056176"
      ]
     },
     "execution_count": 186,
     "metadata": {},
     "output_type": "execute_result"
    }
   ],
   "source": [
    "reg.score(x_train,y_train)"
   ]
  },
  {
   "cell_type": "code",
   "execution_count": null,
   "metadata": {},
   "outputs": [],
   "source": []
  }
 ],
 "metadata": {
  "kernelspec": {
   "display_name": "Python 3",
   "language": "python",
   "name": "python3"
  },
  "language_info": {
   "codemirror_mode": {
    "name": "ipython",
    "version": 3
   },
   "file_extension": ".py",
   "mimetype": "text/x-python",
   "name": "python",
   "nbconvert_exporter": "python",
   "pygments_lexer": "ipython3",
   "version": "3.7.6"
  }
 },
 "nbformat": 4,
 "nbformat_minor": 4
}
